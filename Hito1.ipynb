{
 "cells": [
  {
   "cell_type": "markdown",
   "id": "VeJ_gT9J0Vsb",
   "metadata": {
    "id": "VeJ_gT9J0Vsb"
   },
   "source": [
    "# Hito 1: Ofertas laborales en EEUU 2021\n",
    "Loreto Palma, Catalina Rojas, Maximiliano Jorquera, Gabriela Mora, Bastián Pezoa\n",
    "\n",
    "Octubre 2021"
   ]
  },
  {
   "cell_type": "markdown",
   "id": "eqMvhis5tYFa",
   "metadata": {
    "id": "eqMvhis5tYFa"
   },
   "source": [
    "# 1. Introducción"
   ]
  },
  {
   "cell_type": "markdown",
   "id": "T7-YEg_xtbOV",
   "metadata": {
    "id": "T7-YEg_xtbOV"
   },
   "source": [
    "En el presente informe se expondrá la motivación del grupo por elegir este set de datos, los datos escogidos y su exploración. Los datos corresponden a la recopilación de ofertas de trabajos en Estados Unidos durante el año 2021, que incluye información sobre las ofertas laborales y distintos atributos que la componen.\n",
    "\n",
    "Se hizo una exploración de datos para ver los primeros rasgos del dataset, lograr entenderlos de mejor manera, conocer en profundidad la base de datos, tener conocimientos de las características y atributos con los que se iban a trabajar y hacer las transformaciones necesarias para poder trabajar con ellos y obtener la información que se quiere buscar.\n",
    "\n",
    "La motivación nace a raíz de lo cerca que tenemos el mundo laboral, que actualmente está sufriendo distintas modificaciones y se va adaptando rápidamente a las necesidades de la sociedad, es por eso que como grupo nos interesa mucho tener algún conocimiento sobre cuales son las tendencias actuales, qué es lo que se está buscando y cómo están siendo remuneradas y valoradas distintas habilidades. \n",
    "\n",
    "Se escogió un dataset de Estados Unidos, ya que siempre se ha visto como un país que ofrece buenas oportunidades laborales y uno de los destinos favoritos a la hora de desarrollarse en el ámbito profesional, además, actualmente vivimos en un mundo globalizado, en donde tener una experiencia internacional impulsa de gran manera tanto el desarrollo profesional como el personal. Con el paso del tiempo, crece el número de personas que están trabajando o estudiando en un país distinto al de origen, por lo que tener la oportunidad de hacer este análisis es fundamental para descubrir *insights* y poder tomar decisiones futuras."
   ]
  },
  {
   "cell_type": "markdown",
   "id": "5b2abe35",
   "metadata": {
    "id": "5b2abe35"
   },
   "source": [
    "# 2. Exploración de datos"
   ]
  },
  {
   "cell_type": "markdown",
   "id": "HKriHl4hrUfd",
   "metadata": {
    "id": "HKriHl4hrUfd"
   },
   "source": [
    "El dataset con el que se trabajará fue obtenido de Kaggle. Los datos recopilados en este dataset corresponden a ofertas de trabajo posteadas en diversas páginas de búsqueda de empleo en Estados Unidos."
   ]
  },
  {
   "cell_type": "markdown",
   "id": "585a3c3c",
   "metadata": {
    "id": "585a3c3c"
   },
   "source": [
    "Importamos las librerias y el dataset:"
   ]
  },
  {
   "cell_type": "code",
   "execution_count": 1,
   "id": "3eb00201",
   "metadata": {
    "id": "3eb00201"
   },
   "outputs": [],
   "source": [
    "#standard import form used\n",
    "import pandas as pd \n",
    "import numpy as np"
   ]
  },
  {
   "cell_type": "code",
   "execution_count": 2,
   "id": "407d802c",
   "metadata": {
    "colab": {
     "base_uri": "https://localhost:8080/",
     "height": 595
    },
    "id": "407d802c",
    "outputId": "99b59e99-da16-4079-b86f-04a97e068c72",
    "scrolled": true
   },
   "outputs": [
    {
     "data": {
      "text/html": [
       "<div>\n",
       "<style scoped>\n",
       "    .dataframe tbody tr th:only-of-type {\n",
       "        vertical-align: middle;\n",
       "    }\n",
       "\n",
       "    .dataframe tbody tr th {\n",
       "        vertical-align: top;\n",
       "    }\n",
       "\n",
       "    .dataframe thead th {\n",
       "        text-align: right;\n",
       "    }\n",
       "</style>\n",
       "<table border=\"1\" class=\"dataframe\">\n",
       "  <thead>\n",
       "    <tr style=\"text-align: right;\">\n",
       "      <th></th>\n",
       "      <th>salary</th>\n",
       "      <th>wage_type</th>\n",
       "      <th>education</th>\n",
       "      <th>crawled_at</th>\n",
       "      <th>description</th>\n",
       "      <th>title</th>\n",
       "      <th>skills</th>\n",
       "      <th>country</th>\n",
       "      <th>locality</th>\n",
       "      <th>posted_at</th>\n",
       "      <th>region</th>\n",
       "      <th>experience</th>\n",
       "      <th>employment_type</th>\n",
       "      <th>company</th>\n",
       "      <th>str_salary</th>\n",
       "      <th>reported_salary</th>\n",
       "      <th>normalized</th>\n",
       "    </tr>\n",
       "    <tr>\n",
       "      <th>posted_at</th>\n",
       "      <th></th>\n",
       "      <th></th>\n",
       "      <th></th>\n",
       "      <th></th>\n",
       "      <th></th>\n",
       "      <th></th>\n",
       "      <th></th>\n",
       "      <th></th>\n",
       "      <th></th>\n",
       "      <th></th>\n",
       "      <th></th>\n",
       "      <th></th>\n",
       "      <th></th>\n",
       "      <th></th>\n",
       "      <th></th>\n",
       "      <th></th>\n",
       "      <th></th>\n",
       "    </tr>\n",
       "  </thead>\n",
       "  <tbody>\n",
       "    <tr>\n",
       "      <th>2021-04-21 16:20:00</th>\n",
       "      <td>22</td>\n",
       "      <td>hour</td>\n",
       "      <td>Bachelor's Degree</td>\n",
       "      <td>5/5/2021 3:01</td>\n",
       "      <td>To implement the Head Start Performance Standa...</td>\n",
       "      <td>Head Start Teacher</td>\n",
       "      <td>Emergency Handling</td>\n",
       "      <td>US</td>\n",
       "      <td>Rochester</td>\n",
       "      <td>21-04-2021 16:20</td>\n",
       "      <td>NY</td>\n",
       "      <td>1 to 2 years experience.</td>\n",
       "      <td>FULL_TIME</td>\n",
       "      <td>Action for a Better Community, Inc.</td>\n",
       "      <td>False</td>\n",
       "      <td>22.0</td>\n",
       "      <td>45760.0</td>\n",
       "    </tr>\n",
       "    <tr>\n",
       "      <th>2021-04-16 00:49:00</th>\n",
       "      <td>26</td>\n",
       "      <td>hour</td>\n",
       "      <td>Graduate Degree</td>\n",
       "      <td>5/5/2021 3:01</td>\n",
       "      <td>You have the magic. We have the students.Start...</td>\n",
       "      <td>Teacher of English for Online Groups!</td>\n",
       "      <td>Vocabularies, Grammars, Teaching, Lesson Plann...</td>\n",
       "      <td>US</td>\n",
       "      <td>Atlanta</td>\n",
       "      <td>16-04-2021 0:49</td>\n",
       "      <td>GA</td>\n",
       "      <td>No experience required.</td>\n",
       "      <td>PART_TIME</td>\n",
       "      <td>Magic Ears</td>\n",
       "      <td>False</td>\n",
       "      <td>26.0</td>\n",
       "      <td>54080.0</td>\n",
       "    </tr>\n",
       "    <tr>\n",
       "      <th>2021-04-29 09:59:00</th>\n",
       "      <td>125000</td>\n",
       "      <td>year</td>\n",
       "      <td>Bachelor's Degree</td>\n",
       "      <td>5/5/2021 3:01</td>\n",
       "      <td>We are looking for a CRM developer to join our...</td>\n",
       "      <td>CRM / PHP Developer</td>\n",
       "      <td>PHP (Scripting Language), Debugging, Web Servi...</td>\n",
       "      <td>US</td>\n",
       "      <td>Duluth</td>\n",
       "      <td>29-04-2021 9:59</td>\n",
       "      <td>GA</td>\n",
       "      <td>At least 5 years experience.</td>\n",
       "      <td>FULL_TIME</td>\n",
       "      <td>ExecuSource</td>\n",
       "      <td>False</td>\n",
       "      <td>125000.0</td>\n",
       "      <td>125000.0</td>\n",
       "    </tr>\n",
       "    <tr>\n",
       "      <th>2021-04-18 21:05:00</th>\n",
       "      <td>not_reported</td>\n",
       "      <td>not_reported</td>\n",
       "      <td>High School</td>\n",
       "      <td>5/5/2021 3:01</td>\n",
       "      <td>Briggs Dodge Ram Fiat is looking for Entry Lev...</td>\n",
       "      <td>Automotive Service Advisor / Driver</td>\n",
       "      <td>Driving, Service Delivery, Customer Service, A...</td>\n",
       "      <td>US</td>\n",
       "      <td>Topeka</td>\n",
       "      <td>18-04-2021 21:05</td>\n",
       "      <td>KS</td>\n",
       "      <td>No experience required.</td>\n",
       "      <td>FULL_TIME</td>\n",
       "      <td>Briggs Dodge Ram Fiat</td>\n",
       "      <td>True</td>\n",
       "      <td>0.0</td>\n",
       "      <td>0.0</td>\n",
       "    </tr>\n",
       "    <tr>\n",
       "      <th>2021-04-13 10:38:00</th>\n",
       "      <td>120000</td>\n",
       "      <td>year</td>\n",
       "      <td>4 Year Degree</td>\n",
       "      <td>5/5/2021 3:01</td>\n",
       "      <td>HARLINGEN, TX- RIO GRANDE VALLEY REGION (SOUTH...</td>\n",
       "      <td>Licensed Nursing Home Administrator</td>\n",
       "      <td>Emergency Handling, Training, Accounting, Heal...</td>\n",
       "      <td>US</td>\n",
       "      <td>Harlingen</td>\n",
       "      <td>13-04-2021 10:38</td>\n",
       "      <td>TX</td>\n",
       "      <td>At least 3 years experience.</td>\n",
       "      <td>FULL_TIME</td>\n",
       "      <td>Regency Integrated Health Services</td>\n",
       "      <td>False</td>\n",
       "      <td>120000.0</td>\n",
       "      <td>120000.0</td>\n",
       "    </tr>\n",
       "  </tbody>\n",
       "</table>\n",
       "</div>"
      ],
      "text/plain": [
       "                           salary     wage_type          education  \\\n",
       "posted_at                                                            \n",
       "2021-04-21 16:20:00            22          hour  Bachelor's Degree   \n",
       "2021-04-16 00:49:00            26          hour    Graduate Degree   \n",
       "2021-04-29 09:59:00        125000          year  Bachelor's Degree   \n",
       "2021-04-18 21:05:00  not_reported  not_reported        High School   \n",
       "2021-04-13 10:38:00        120000          year      4 Year Degree   \n",
       "\n",
       "                        crawled_at  \\\n",
       "posted_at                            \n",
       "2021-04-21 16:20:00  5/5/2021 3:01   \n",
       "2021-04-16 00:49:00  5/5/2021 3:01   \n",
       "2021-04-29 09:59:00  5/5/2021 3:01   \n",
       "2021-04-18 21:05:00  5/5/2021 3:01   \n",
       "2021-04-13 10:38:00  5/5/2021 3:01   \n",
       "\n",
       "                                                           description  \\\n",
       "posted_at                                                                \n",
       "2021-04-21 16:20:00  To implement the Head Start Performance Standa...   \n",
       "2021-04-16 00:49:00  You have the magic. We have the students.Start...   \n",
       "2021-04-29 09:59:00  We are looking for a CRM developer to join our...   \n",
       "2021-04-18 21:05:00  Briggs Dodge Ram Fiat is looking for Entry Lev...   \n",
       "2021-04-13 10:38:00  HARLINGEN, TX- RIO GRANDE VALLEY REGION (SOUTH...   \n",
       "\n",
       "                                                     title  \\\n",
       "posted_at                                                    \n",
       "2021-04-21 16:20:00                     Head Start Teacher   \n",
       "2021-04-16 00:49:00  Teacher of English for Online Groups!   \n",
       "2021-04-29 09:59:00                    CRM / PHP Developer   \n",
       "2021-04-18 21:05:00    Automotive Service Advisor / Driver   \n",
       "2021-04-13 10:38:00    Licensed Nursing Home Administrator   \n",
       "\n",
       "                                                                skills  \\\n",
       "posted_at                                                                \n",
       "2021-04-21 16:20:00                                 Emergency Handling   \n",
       "2021-04-16 00:49:00  Vocabularies, Grammars, Teaching, Lesson Plann...   \n",
       "2021-04-29 09:59:00  PHP (Scripting Language), Debugging, Web Servi...   \n",
       "2021-04-18 21:05:00  Driving, Service Delivery, Customer Service, A...   \n",
       "2021-04-13 10:38:00  Emergency Handling, Training, Accounting, Heal...   \n",
       "\n",
       "                    country   locality         posted_at region  \\\n",
       "posted_at                                                         \n",
       "2021-04-21 16:20:00      US  Rochester  21-04-2021 16:20     NY   \n",
       "2021-04-16 00:49:00      US    Atlanta   16-04-2021 0:49     GA   \n",
       "2021-04-29 09:59:00      US     Duluth   29-04-2021 9:59     GA   \n",
       "2021-04-18 21:05:00      US     Topeka  18-04-2021 21:05     KS   \n",
       "2021-04-13 10:38:00      US  Harlingen  13-04-2021 10:38     TX   \n",
       "\n",
       "                                       experience employment_type  \\\n",
       "posted_at                                                           \n",
       "2021-04-21 16:20:00      1 to 2 years experience.       FULL_TIME   \n",
       "2021-04-16 00:49:00       No experience required.       PART_TIME   \n",
       "2021-04-29 09:59:00  At least 5 years experience.       FULL_TIME   \n",
       "2021-04-18 21:05:00       No experience required.       FULL_TIME   \n",
       "2021-04-13 10:38:00  At least 3 years experience.       FULL_TIME   \n",
       "\n",
       "                                                 company  str_salary  \\\n",
       "posted_at                                                              \n",
       "2021-04-21 16:20:00  Action for a Better Community, Inc.       False   \n",
       "2021-04-16 00:49:00                           Magic Ears       False   \n",
       "2021-04-29 09:59:00                          ExecuSource       False   \n",
       "2021-04-18 21:05:00                Briggs Dodge Ram Fiat        True   \n",
       "2021-04-13 10:38:00   Regency Integrated Health Services       False   \n",
       "\n",
       "                     reported_salary  normalized  \n",
       "posted_at                                         \n",
       "2021-04-21 16:20:00             22.0     45760.0  \n",
       "2021-04-16 00:49:00             26.0     54080.0  \n",
       "2021-04-29 09:59:00         125000.0    125000.0  \n",
       "2021-04-18 21:05:00              0.0         0.0  \n",
       "2021-04-13 10:38:00         120000.0    120000.0  "
      ]
     },
     "execution_count": 2,
     "metadata": {},
     "output_type": "execute_result"
    }
   ],
   "source": [
    "# Importamos el dataset\n",
    "best_jobsUS_df = pd.read_csv(r\"C:\\Users\\basti\\Desktop\\DataSet\\DE_R\\Best_Jobs.csv\", sep=',')\n",
    "best_jobsUS_df = best_jobsUS_df.rename(columns={\"_id\": \"id\", \"Column1\": \"wage_type\"})\n",
    "best_jobsUS_df.index = pd.DatetimeIndex(best_jobsUS_df[\"posted_at\"])\n",
    "best_jobsUS_df.head()"
   ]
  },
  {
   "cell_type": "markdown",
   "id": "oaCAXUUkx2O9",
   "metadata": {
    "id": "oaCAXUUkx2O9"
   },
   "source": [
    "## 2.1 Limpieza de datos\n",
    "\n",
    "Atributos y que representan:\n",
    "\n",
    "<ul>\n",
    "    <li>salary = Salario en dolares\n",
    "    <li>wage_type = Tipo de salario declarado. Salario por hora o por año.\n",
    "    <li>education = Grado de educación requerido para postular al trabajo\n",
    "    <li>crawled_at = Fecha en que el dato fue recopilado\n",
    "    <li>description = Descripción de la oferta de trabajo\n",
    "    <li>title = Titulo del cargo o trabajo\n",
    "    <li>skills = Habilidades deseadas para desempeñar el cargo\n",
    "    <li>country = País de recopilación del dato\n",
    "    <li>locality = Ciudad en donde se requiere el cargo de trabajo\n",
    "    <li>posted_at = Fecha en la que fue posteada la oferta de trabajo\n",
    "    <li>region = Estado de la ciudad en donde se requiere el cargo de trabajo\n",
    "    <li>experience = Experiencia mínima solicitada por el empleador para el trabajo\n",
    "    <li>employment_type = Tipo de empleo.\n",
    "    <li>company = Nombre de la compañia que realiza la oferta laboral\n",
    "    <li>str_salary = Indica si la oferta de trabajo original declaraba el sueldo en tipo string o no\n",
    "    <li>reported_salary = Salario declarado en la oferta de trabajo\n",
    "    <li>normalized = Salario normalizado a sueldo por año     \n",
    "</ul>\n",
    "\n",
    "### Datos eliminados\n",
    "\n",
    "El dataset contaba con 19 atributos inicialmente, de los cuales se eliminaron 7 que contenian datos que no aportaban información al análisis de estos, o que eran, más bien, datos técnicos que ayudaban con la recopilación de la información para el dataset. \n",
    "\n",
    "Por el lado de las filas del dataset, se eliminaron las filas que contenian datos inconsistentes en el atributo salary. Estas contenían información en lenguaje de marcado y carácteres codificados erróneamente, y no se podía inferir si eran datos numéricos o strings, por lo que se decidió borrar para el posterior análisis. También fueron eliminadas filas que contenian datos de ofertas de trabajo de otros paises, pues estás eran una cantidad mínima.\n",
    "\n",
    "### Columna Salary\n",
    "\n",
    "En la columna se encontraban datos en forma de str, datos numéricos en intervalos y NA, los últimos se interpretaron como salarios que no fueron declarados por las compañías y se rellenaron con el string not_reported. \n",
    "\n",
    "En los datos numéricos en intervalos se decidió tomar el valor máximo de los intervalos y se separaron en 2 columnas los datos de la columna salary. Una columna salary que contiene los datos originales y otra columna que contiene los valores numéricos normalizados, pasando todos los salarios a unidad de año, llamada normalized, donde los valores 0 de la columna corresponden a las filas que contienen salarios reportados con caracteres del abecedario en la columna salary.\n",
    "\n",
    "\n"
   ]
  },
  {
   "cell_type": "markdown",
   "id": "f667c361",
   "metadata": {
    "id": "f667c361"
   },
   "source": [
    "## 2.2 Estadísticas"
   ]
  },
  {
   "cell_type": "markdown",
   "id": "vCCLTfcm-vJe",
   "metadata": {
    "id": "vCCLTfcm-vJe"
   },
   "source": [
    "Para tener una visión general inicial sobre los datos se realizó un análisis simple de estos, de modo de poder ver la dimensión del dataset, qué tipo de datos contienen los atributos, cantidad de nulos por atributo, conteo de valores por atributo (que tanto se repiten ciertos valores en estos), cantidad de valores únicos en los atributos, entre otros:"
   ]
  },
  {
   "cell_type": "markdown",
   "id": "flgwH6GjrS_B",
   "metadata": {
    "id": "flgwH6GjrS_B"
   },
   "source": [
    "Dimensiones del dataset:"
   ]
  },
  {
   "cell_type": "code",
   "execution_count": 3,
   "id": "d49e8c7a",
   "metadata": {
    "colab": {
     "base_uri": "https://localhost:8080/"
    },
    "id": "d49e8c7a",
    "outputId": "63baae57-e254-4cb4-8915-488d333d992d"
   },
   "outputs": [
    {
     "data": {
      "text/plain": [
       "(10467, 17)"
      ]
     },
     "execution_count": 3,
     "metadata": {},
     "output_type": "execute_result"
    }
   ],
   "source": [
    "# (filas, atributos) del dataframe\n",
    "best_jobsUS_df.shape"
   ]
  },
  {
   "cell_type": "markdown",
   "id": "Dri9B0NfDFVA",
   "metadata": {
    "id": "Dri9B0NfDFVA"
   },
   "source": [
    "Tipos de datos en los atributos:"
   ]
  },
  {
   "cell_type": "code",
   "execution_count": 4,
   "id": "9b15c226",
   "metadata": {
    "colab": {
     "base_uri": "https://localhost:8080/"
    },
    "id": "9b15c226",
    "outputId": "2589a317-006d-4857-e4db-642707b21862"
   },
   "outputs": [
    {
     "data": {
      "text/plain": [
       "salary              object\n",
       "wage_type           object\n",
       "education           object\n",
       "crawled_at          object\n",
       "description         object\n",
       "title               object\n",
       "skills              object\n",
       "country             object\n",
       "locality            object\n",
       "posted_at           object\n",
       "region              object\n",
       "experience          object\n",
       "employment_type     object\n",
       "company             object\n",
       "str_salary            bool\n",
       "reported_salary    float64\n",
       "normalized         float64\n",
       "dtype: object"
      ]
     },
     "execution_count": 4,
     "metadata": {},
     "output_type": "execute_result"
    }
   ],
   "source": [
    "# Tipo de dato de los valores almacenados en los atributos\n",
    "best_jobsUS_df.dtypes"
   ]
  },
  {
   "cell_type": "markdown",
   "id": "pCt4e9AvDJqi",
   "metadata": {
    "id": "pCt4e9AvDJqi"
   },
   "source": [
    "Información general sobre el dataframe:"
   ]
  },
  {
   "cell_type": "code",
   "execution_count": 5,
   "id": "1222479f",
   "metadata": {
    "colab": {
     "base_uri": "https://localhost:8080/"
    },
    "id": "1222479f",
    "outputId": "db688a48-9f98-4d34-a250-2690fa361c8b"
   },
   "outputs": [
    {
     "name": "stdout",
     "output_type": "stream",
     "text": [
      "<class 'pandas.core.frame.DataFrame'>\n",
      "DatetimeIndex: 10467 entries, 2021-04-21 16:20:00 to 2021-04-28 09:13:00\n",
      "Data columns (total 17 columns):\n",
      " #   Column           Non-Null Count  Dtype  \n",
      "---  ------           --------------  -----  \n",
      " 0   salary           10467 non-null  object \n",
      " 1   wage_type        10467 non-null  object \n",
      " 2   education        6139 non-null   object \n",
      " 3   crawled_at       10467 non-null  object \n",
      " 4   description      10466 non-null  object \n",
      " 5   title            10467 non-null  object \n",
      " 6   skills           9739 non-null   object \n",
      " 7   country          10467 non-null  object \n",
      " 8   locality         10445 non-null  object \n",
      " 9   posted_at        10459 non-null  object \n",
      " 10  region           10459 non-null  object \n",
      " 11  experience       5641 non-null   object \n",
      " 12  employment_type  10459 non-null  object \n",
      " 13  company          10459 non-null  object \n",
      " 14  str_salary       10467 non-null  bool   \n",
      " 15  reported_salary  10464 non-null  float64\n",
      " 16  normalized       10464 non-null  float64\n",
      "dtypes: bool(1), float64(2), object(14)\n",
      "memory usage: 1.4+ MB\n"
     ]
    }
   ],
   "source": [
    "# Conteo de valores no nulos por atributo, tipo de dato por atributo, uso de memoria del dataframe\n",
    "best_jobsUS_df.info()"
   ]
  },
  {
   "cell_type": "markdown",
   "id": "YKUmVSmTDPpP",
   "metadata": {
    "id": "YKUmVSmTDPpP"
   },
   "source": [
    "Conteo de valores nulos por atributo del dataframe:"
   ]
  },
  {
   "cell_type": "code",
   "execution_count": 6,
   "id": "cb336ba7",
   "metadata": {
    "colab": {
     "base_uri": "https://localhost:8080/"
    },
    "id": "cb336ba7",
    "outputId": "7f1d3dd5-7f8d-4f20-9141-cfb28cc75819"
   },
   "outputs": [
    {
     "data": {
      "text/plain": [
       "salary                0\n",
       "wage_type             0\n",
       "education          4328\n",
       "crawled_at            0\n",
       "description           1\n",
       "title                 0\n",
       "skills              728\n",
       "country               0\n",
       "locality             22\n",
       "posted_at             8\n",
       "region                8\n",
       "experience         4826\n",
       "employment_type       8\n",
       "company               8\n",
       "str_salary            0\n",
       "reported_salary       3\n",
       "normalized            3\n",
       "dtype: int64"
      ]
     },
     "execution_count": 6,
     "metadata": {},
     "output_type": "execute_result"
    }
   ],
   "source": [
    "# Conteo de valores nulos por atributo\n",
    "best_jobsUS_df.isna().sum()"
   ]
  },
  {
   "cell_type": "markdown",
   "id": "AtrmpBGADS4i",
   "metadata": {
    "id": "AtrmpBGADS4i"
   },
   "source": [
    "Conteo de sueldos normalizados:"
   ]
  },
  {
   "cell_type": "code",
   "execution_count": 7,
   "id": "8e60bad7",
   "metadata": {
    "colab": {
     "base_uri": "https://localhost:8080/"
    },
    "id": "8e60bad7",
    "outputId": "72fd8426-2c04-4363-b288-1d1d646b65e6",
    "scrolled": true
   },
   "outputs": [
    {
     "data": {
      "text/plain": [
       "0.0         8519\n",
       "35360.0       69\n",
       "37440.0       63\n",
       "83200.0       56\n",
       "41600.0       53\n",
       "            ... \n",
       "187200.0       1\n",
       "80600.0        1\n",
       "159000.0       1\n",
       "171392.0       1\n",
       "106392.0       1\n",
       "Name: normalized, Length: 385, dtype: int64"
      ]
     },
     "execution_count": 7,
     "metadata": {},
     "output_type": "execute_result"
    }
   ],
   "source": [
    "# Conteo de sueldos normalizados a sueldo por año\n",
    "best_jobsUS_df['normalized'].value_counts(dropna=False)"
   ]
  },
  {
   "cell_type": "markdown",
   "id": "v8BgkVLtDjNt",
   "metadata": {
    "id": "v8BgkVLtDjNt"
   },
   "source": [
    "Conteo de tipos de sueldos reportados:"
   ]
  },
  {
   "cell_type": "code",
   "execution_count": 8,
   "id": "fb15d382",
   "metadata": {
    "colab": {
     "base_uri": "https://localhost:8080/"
    },
    "id": "fb15d382",
    "outputId": "49ba1cc0-4fe3-4971-dbfa-6ab93b526abf"
   },
   "outputs": [
    {
     "data": {
      "text/plain": [
       "not_reported    8022\n",
       "hour            1457\n",
       "year             988\n",
       "Name: wage_type, dtype: int64"
      ]
     },
     "execution_count": 8,
     "metadata": {},
     "output_type": "execute_result"
    }
   ],
   "source": [
    "# Conteo de tipos de sueldo\n",
    "best_jobsUS_df['wage_type'].value_counts(dropna=False)"
   ]
  },
  {
   "cell_type": "markdown",
   "id": "o-yYPiGGDzrT",
   "metadata": {
    "id": "o-yYPiGGDzrT"
   },
   "source": [
    "Valores únicos en el atributo education:"
   ]
  },
  {
   "cell_type": "code",
   "execution_count": 9,
   "id": "93d858d5",
   "metadata": {
    "colab": {
     "base_uri": "https://localhost:8080/"
    },
    "id": "93d858d5",
    "outputId": "fe887311-d23b-49fe-8448-2885a9257b50"
   },
   "outputs": [
    {
     "name": "stdout",
     "output_type": "stream",
     "text": [
      "[\"Bachelor's Degree\" 'Graduate Degree' 'High School' '4 Year Degree' nan\n",
      " 'Other' '2 Year Degree' \"Associate's Degree\" 'Ph.D.'\n",
      " 'Vocational Certificate' 'None' \"Master's Degree\" 'Some College'\n",
      " 'Doctorate'] \n",
      "\n"
     ]
    }
   ],
   "source": [
    "# Valores únicos sobre atributo education\n",
    "c = best_jobsUS_df.education.unique()\n",
    "print(c, '\\n')"
   ]
  },
  {
   "cell_type": "markdown",
   "id": "3DL1HTu_q4lJ",
   "metadata": {
    "id": "3DL1HTu_q4lJ"
   },
   "source": [
    "Conteo de valores sobre el atributo education:"
   ]
  },
  {
   "cell_type": "code",
   "execution_count": 10,
   "id": "rUJPNVCorAwp",
   "metadata": {
    "colab": {
     "base_uri": "https://localhost:8080/"
    },
    "id": "rUJPNVCorAwp",
    "outputId": "cacb4c2d-82a2-413f-e4ec-fd7d4a8ab0eb"
   },
   "outputs": [
    {
     "data": {
      "text/plain": [
       "NaN                       4328\n",
       "High School               3018\n",
       "Bachelor's Degree         1025\n",
       "Associate's Degree         596\n",
       "4 Year Degree              521\n",
       "Other                      381\n",
       "Vocational Certificate     168\n",
       "2 Year Degree              163\n",
       "None                       111\n",
       "Master's Degree             79\n",
       "Graduate Degree             51\n",
       "Ph.D.                       20\n",
       "Doctorate                    4\n",
       "Some College                 2\n",
       "Name: education, dtype: int64"
      ]
     },
     "execution_count": 10,
     "metadata": {},
     "output_type": "execute_result"
    }
   ],
   "source": [
    "# Conteo de valores en education\n",
    "best_jobsUS_df['education'].value_counts(dropna=False)"
   ]
  },
  {
   "cell_type": "markdown",
   "id": "Fnd8GOFZD3hP",
   "metadata": {
    "id": "Fnd8GOFZD3hP"
   },
   "source": [
    "Valores únicos en el atributo experience:"
   ]
  },
  {
   "cell_type": "code",
   "execution_count": 11,
   "id": "29ae8230",
   "metadata": {
    "colab": {
     "base_uri": "https://localhost:8080/"
    },
    "id": "29ae8230",
    "outputId": "a65e555a-7549-4a47-8fff-afcc5769ff1b"
   },
   "outputs": [
    {
     "name": "stdout",
     "output_type": "stream",
     "text": [
      "['1 to 2 years experience.' 'No experience required.'\n",
      " 'At least 5 years experience.' 'At least 3 years experience.'\n",
      " 'At least 2 years experience.' nan '5 to 9 years experience.'\n",
      " 'At least 1 year experience.' 'At least 4 years experience.'\n",
      " 'At least 7 years experience.' '1 to 10 years experience.'\n",
      " 'At least 8 years experience.' 'Up to 2 years experience.'\n",
      " 'At least 15 years experience.' 'At least 12 years experience.'\n",
      " '3 to 5 years experience.' '3 to 15 years experience.'\n",
      " '5 to 7 years experience.' 'Up to 5 years experience.'\n",
      " '2 to 3 years experience.' '4 to 6 years experience.'\n",
      " '3 to 4 years experience.' '2 to 5 years experience.'\n",
      " 'At least 10 years experience.' '5 to 8 years experience.'\n",
      " '1 to 3 years experience.' '1 to 5 years experience.'\n",
      " 'Up to 3 years experience.' 'Up to 1 year experience.'\n",
      " '2 to 15 years experience.' '2 to 4 years experience.'\n",
      " 'Up to 15 years experience.' '2 to 7 years experience.'\n",
      " '8 to 15 years experience.' '1 to 4 years experience.'\n",
      " '3 to 10 years experience.' '3 to 6 years experience.'\n",
      " '4 to 5 years experience.' '4 to 7 years experience.'\n",
      " 'At least 6 years experience.' '8 to 12 years experience.'\n",
      " '10 to 15 years experience.' '5 to 10 years experience.'\n",
      " 'At least 9 years experience.' 'Up to 6 years experience.'\n",
      " '2 to 9 years experience.' '4 to 8 years experience.'\n",
      " '7 to 10 years experience.' '1 to 15 years experience.'\n",
      " '6 to 8 years experience.' '3 to 14 years experience.'\n",
      " '5 to 15 years experience.' '2 to 10 years experience.'\n",
      " '5 to 12 years experience.' '9 to 10 years experience.'\n",
      " 'Up to 10 years experience.' '4 to 10 years experience.'\n",
      " '2 to 6 years experience.' '2 to 8 years experience.'\n",
      " '1 to 6 years experience.' '3 to 8 years experience.'\n",
      " '6 to 15 years experience.' '6 to 10 years experience.'\n",
      " '5 to 6 years experience.' '8 to 10 years experience.'\n",
      " '7 to 15 years experience.' '2 to 14 years experience.'\n",
      " '3 to 7 years experience.' '13 to 15 years experience.'\n",
      " '9 to 12 years experience.' '1 to 14 years experience.'\n",
      " '4 to 15 years experience.' 'At least 14 years experience.'\n",
      " '10 to 12 years experience.' '6 to 12 years experience.'\n",
      " 'Up to 8 years experience.'] \n",
      "\n",
      "Cantidad de valores unicos:  76\n"
     ]
    }
   ],
   "source": [
    "# Valores unicos en experience\n",
    "a = best_jobsUS_df.experience.unique()\n",
    "print(a, '\\n')\n",
    "# Cantidad de valores unicos en experience\n",
    "print(\"Cantidad de valores unicos: \", len(a))"
   ]
  },
  {
   "cell_type": "markdown",
   "id": "I4fIlxHULhqW",
   "metadata": {
    "id": "I4fIlxHULhqW"
   },
   "source": [
    "Conteo de valores sobre el atributo experience:"
   ]
  },
  {
   "cell_type": "code",
   "execution_count": 12,
   "id": "qorxsEaWLmXb",
   "metadata": {
    "colab": {
     "base_uri": "https://localhost:8080/"
    },
    "id": "qorxsEaWLmXb",
    "outputId": "9cdbf896-b06f-4f56-a24d-54536f2e2c07"
   },
   "outputs": [
    {
     "data": {
      "text/plain": [
       "NaN                              4826\n",
       "No experience required.          1272\n",
       "At least 1 year experience.      1177\n",
       "At least 2 years experience.      777\n",
       "At least 5 years experience.      650\n",
       "                                 ... \n",
       "10 to 12 years experience.          1\n",
       "At least 14 years experience.       1\n",
       "5 to 9 years experience.            1\n",
       "9 to 10 years experience.           1\n",
       "2 to 14 years experience.           1\n",
       "Name: experience, Length: 76, dtype: int64"
      ]
     },
     "execution_count": 12,
     "metadata": {},
     "output_type": "execute_result"
    }
   ],
   "source": [
    "# Conteo de valores en experience\n",
    "best_jobsUS_df['experience'].value_counts(dropna=False)"
   ]
  },
  {
   "cell_type": "markdown",
   "id": "jKxAdK8eEE6u",
   "metadata": {
    "id": "jKxAdK8eEE6u"
   },
   "source": [
    "Valores únicos en el atributo region:"
   ]
  },
  {
   "cell_type": "code",
   "execution_count": 13,
   "id": "a9ffa674",
   "metadata": {
    "colab": {
     "base_uri": "https://localhost:8080/"
    },
    "id": "a9ffa674",
    "outputId": "169cbf07-7c77-4001-bc09-9e0f2c955866"
   },
   "outputs": [
    {
     "name": "stdout",
     "output_type": "stream",
     "text": [
      "['NY' 'GA' 'KS' 'TX' 'NC' 'IL' 'WA' 'CT' 'PA' 'MO' 'CA' 'CO' 'OR' 'AZ'\n",
      " 'MN' 'MI' 'FL' 'IN' 'NH' 'MD' 'OH' 'SC' 'LA' 'VA' 'ND' 'WV' 'NV' 'WI'\n",
      " 'OK' 'AL' 'NJ' 'MA' 'SD' 'AR' 'IA' 'NM' 'ID' 'MS' 'MT' 'TN' 'UT' 'WY'\n",
      " 'KY' 'ME' 'DC' 'NE' 'DE' 'RI' 'AK' 'VT' 'HI' nan] \n",
      "\n",
      "Cantidad de valores unicos:  52\n"
     ]
    }
   ],
   "source": [
    "# Valores unicos en region\n",
    "unique_region = best_jobsUS_df.region.unique()\n",
    "print(unique_region, '\\n')\n",
    "print(\"Cantidad de valores unicos: \", len(unique_region))"
   ]
  },
  {
   "cell_type": "markdown",
   "id": "M_wfnYJGEMDV",
   "metadata": {
    "id": "M_wfnYJGEMDV"
   },
   "source": [
    "Conteo de valores en el atributo region:"
   ]
  },
  {
   "cell_type": "code",
   "execution_count": 14,
   "id": "204c6f80",
   "metadata": {
    "colab": {
     "base_uri": "https://localhost:8080/"
    },
    "id": "204c6f80",
    "outputId": "d59301ca-4954-4c91-e251-d7bb60ad725a"
   },
   "outputs": [
    {
     "data": {
      "text/plain": [
       "TX    851\n",
       "CA    833\n",
       "FL    759\n",
       "GA    554\n",
       "IL    440\n",
       "OH    440\n",
       "PA    432\n",
       "NY    399\n",
       "NC    397\n",
       "TN    325\n",
       "NJ    312\n",
       "AZ    295\n",
       "WA    293\n",
       "MI    284\n",
       "MA    267\n",
       "IN    267\n",
       "MN    235\n",
       "VA    234\n",
       "MD    229\n",
       "MO    217\n",
       "WI    208\n",
       "SC    168\n",
       "KY    148\n",
       "AL    141\n",
       "OK    136\n",
       "OR    122\n",
       "MS    119\n",
       "CT    117\n",
       "CO    115\n",
       "IA    113\n",
       "KS    108\n",
       "NM     94\n",
       "NH     91\n",
       "AR     83\n",
       "NV     81\n",
       "LA     80\n",
       "UT     58\n",
       "NE     53\n",
       "ID     45\n",
       "DC     43\n",
       "WV     42\n",
       "DE     34\n",
       "ND     33\n",
       "ME     32\n",
       "SD     28\n",
       "RI     24\n",
       "VT     20\n",
       "HI     20\n",
       "MT     15\n",
       "WY     13\n",
       "AK     12\n",
       "Name: region, dtype: int64"
      ]
     },
     "execution_count": 14,
     "metadata": {},
     "output_type": "execute_result"
    }
   ],
   "source": [
    "# Conteo sobre los valores de region\n",
    "best_jobsUS_df['region'].value_counts(dropna=True)"
   ]
  },
  {
   "cell_type": "markdown",
   "id": "ZtJt6AUf8rHe",
   "metadata": {
    "id": "ZtJt6AUf8rHe"
   },
   "source": [
    "Se crean dos columnas con los valores de los salarios anuales y por hora, en donde los valores que no están disponibles están como nulos, para facilitar el cálculo de promedios.\n",
    "\n",
    "- *yearly_salary*: salario obtenido en un año en USD.\n",
    "- *hourly_salary*: salario obtenido por hora en USD.\n",
    "\n",
    "Para esta normalización, se consideraron 40 horas de trabajo semanales, en 52 semanas por año. "
   ]
  },
  {
   "cell_type": "markdown",
   "id": "C8g_ziIV8rHg",
   "metadata": {
    "id": "C8g_ziIV8rHg"
   },
   "source": [
    "#### Función para normalizar los sueldos a un valor anual"
   ]
  },
  {
   "cell_type": "code",
   "execution_count": 15,
   "id": "_He6Gehx8rHh",
   "metadata": {
    "id": "_He6Gehx8rHh"
   },
   "outputs": [],
   "source": [
    "def salary_to_yearly(salary, wage_type):\n",
    "  \"\"\"\n",
    "  Convierte los sueldos a un valor de sueldo por año.\n",
    "  \"\"\"\n",
    "  if \"year\" in wage_type.lower():\n",
    "    return float(salary)\n",
    "  elif (\"not_reported\" not in wage_type.lower()) and (\"hour\" in wage_type.lower() or \"hr\" in wage_type.lower()):\n",
    "    return float(salary)*40*52\n",
    "  elif \"week\" in wage_type.lower():\n",
    "    return float(salary)*52"
   ]
  },
  {
   "cell_type": "code",
   "execution_count": 16,
   "id": "f98DuxKN8rHj",
   "metadata": {
    "id": "f98DuxKN8rHj"
   },
   "outputs": [],
   "source": [
    "best_jobsUS_df['yearly_salary'] = best_jobsUS_df.apply(lambda x: \n",
    "                                                   salary_to_yearly(salary=x['reported_salary'], wage_type=x['wage_type']), axis=1)"
   ]
  },
  {
   "cell_type": "markdown",
   "id": "QEc92-tM8rHk",
   "metadata": {
    "id": "QEc92-tM8rHk"
   },
   "source": [
    "#### Función para normalizar los sueldos a un valor por hora"
   ]
  },
  {
   "cell_type": "code",
   "execution_count": 17,
   "id": "bedDBQMC8rHl",
   "metadata": {
    "id": "bedDBQMC8rHl"
   },
   "outputs": [],
   "source": [
    "def salary_to_hourly(salary, wage_type):\n",
    "  \"\"\"\n",
    "  Convierte los sueldos a un valor de sueldo por hora.\n",
    "  \"\"\"\n",
    "  if \"year\" in wage_type.lower():\n",
    "    return float(salary)/(40*52)\n",
    "  elif (\"not_reported\" not in wage_type.lower()) and (\"hour\" in wage_type.lower() or \"hr\" in wage_type.lower()):\n",
    "    return float(salary)\n",
    "  elif \"week\" in wage_type.lower():\n",
    "    return float(salary)/40"
   ]
  },
  {
   "cell_type": "code",
   "execution_count": 18,
   "id": "p9omk2Vp8rHm",
   "metadata": {
    "id": "p9omk2Vp8rHm"
   },
   "outputs": [],
   "source": [
    "best_jobsUS_df['hourly_salary'] = best_jobsUS_df.apply(lambda x: \n",
    "                                                   salary_to_hourly(salary=x['reported_salary'], wage_type=x['wage_type']), axis=1)"
   ]
  },
  {
   "cell_type": "markdown",
   "id": "WBsRpTJyOpnP",
   "metadata": {
    "id": "WBsRpTJyOpnP"
   },
   "source": [
    "## 2.3 Atributo de mayor interés\n",
    "\n",
    "Para hallar respuestas a las preguntas que se presentan, es de crucial importancia conocer la naturaleza de la varible salario. Al momento de hacer la limpieza de datos y la exploración, se encontraron 2 formas de representar los salarios de los puestos de trabajos:\n",
    "\n",
    "1.   Declaran sueldo en hora o en año\n",
    "2.   No declaran sueldo\n",
    "\n",
    "Con el objetivo de facilitar el trabajo de la variable salario, es que se decidió separar el atributo en 2. Uno que mantuviera la naturaleza de la variable llamada salary y otra llamada normalized, que contiene la variable salario estandarizada a sueldo por año. En el último atributo mencionado, cuando la variable toma el valor 0 corresponde a casos donde el anuncio no declaraba sueldo. La distrubución de estas 2 formas de representar el sueldo se ve de la siguiente manera:\n",
    "\n"
   ]
  },
  {
   "cell_type": "code",
   "execution_count": 19,
   "id": "qDnnYpQoOpS1",
   "metadata": {
    "id": "qDnnYpQoOpS1"
   },
   "outputs": [],
   "source": [
    "#Grafico de frecuencia entre trabajos que declaran salario y los que no\n",
    "\n",
    "salario=best_jobsUS_df['salary']\n",
    "declaran=best_jobsUS_df['salary']!=0"
   ]
  },
  {
   "cell_type": "code",
   "execution_count": 20,
   "id": "IlILiayZynf0",
   "metadata": {
    "colab": {
     "base_uri": "https://localhost:8080/",
     "height": 281
    },
    "id": "IlILiayZynf0",
    "outputId": "4bccba67-ed19-4c80-b2cb-5541332aff45"
   },
   "outputs": [
    {
     "data": {
      "image/png": "[encoded data removed]",
      "text/plain": [
       "<Figure size 432x288 with 1 Axes>"
      ]
     },
     "metadata": {
      "needs_background": "light"
     },
     "output_type": "display_data"
    }
   ],
   "source": [
    "import matplotlib.pyplot as plt\n",
    "\n",
    "df_notnull = best_jobsUS_df[best_jobsUS_df['yearly_salary'].notnull()]\n",
    "notnull_values = df_notnull.shape[0]\n",
    "null_values = best_jobsUS_df.shape[0] - notnull_values\n",
    "\n",
    "x = [\"Sin sueldo\", \"Con sueldo\"]\n",
    "y = [null_values, notnull_values] \n",
    "plt.title(\"Ofertas con y sin sueldo\")\n",
    "plt.ylabel(\"Cantidad\")\n",
    "plt.bar(x, y)\n",
    "plt.show()"
   ]
  },
  {
   "cell_type": "markdown",
   "id": "DcsJ2KgNQ-SS",
   "metadata": {
    "id": "DcsJ2KgNQ-SS"
   },
   "source": [
    "Por otra parte, la distribución de los sueldos de los empleos que lo declaran tiene la siguiente forma. La distribución de sueldo se ve muy dispersa al ser gráficada con el sueldo estandarizado por año, por lo que se prefirio utilizar la estandarización en hora:"
   ]
  },
  {
   "cell_type": "code",
   "execution_count": 21,
   "id": "mOUtZPC9RTHg",
   "metadata": {
    "id": "mOUtZPC9RTHg"
   },
   "outputs": [],
   "source": [
    "salario=best_jobsUS_df['salary']"
   ]
  },
  {
   "cell_type": "code",
   "execution_count": 22,
   "id": "NR7InKZpz7Zb",
   "metadata": {
    "colab": {
     "base_uri": "https://localhost:8080/",
     "height": 295
    },
    "id": "NR7InKZpz7Zb",
    "outputId": "65a0b1d9-62c4-4981-be7a-c5450fe05328"
   },
   "outputs": [
    {
     "data": {
      "image/png": "[encoded data removed]",
      "text/plain": [
       "<Figure size 432x288 with 1 Axes>"
      ]
     },
     "metadata": {
      "needs_background": "light"
     },
     "output_type": "display_data"
    }
   ],
   "source": [
    "quantil = np.quantile(df_notnull['hourly_salary'], 0.75)\n",
    "plt.hist(df_notnull['hourly_salary'], bins = 15, range = (0.1, quantil))\n",
    "plt.xlabel(\"Hourly Salary\")\n",
    "plt.ylabel(\"Count\")\n",
    "plt.title(\"Distribución de sueldos hasta el 3er cuantil\")\n",
    "plt.show()"
   ]
  },
  {
   "cell_type": "markdown",
   "id": "3ffd798d",
   "metadata": {
    "id": "3ffd798d"
   },
   "source": [
    "## 2.4 Palabras más frecuentes en los atributos\n"
   ]
  },
  {
   "cell_type": "code",
   "execution_count": 23,
   "id": "62d1cb69",
   "metadata": {
    "id": "62d1cb69"
   },
   "outputs": [],
   "source": [
    "# Funcion que contea las n palabras más frecuentes dentro de un atributo L\n",
    "\n",
    "from collections import Counter\n",
    "\n",
    "def count_words(L, n):\n",
    "    words = []\n",
    "    for text in list(L): \n",
    "        for word in str(text).split():\n",
    "            words.append(word)\n",
    "\n",
    "    counter_words = Counter(words)\n",
    "    pairs = counter_words.most_common(n)\n",
    "    return pairs"
   ]
  },
  {
   "cell_type": "markdown",
   "id": "288ba4e6",
   "metadata": {
    "id": "288ba4e6"
   },
   "source": [
    "Se calcularon las palabras más frecuentes en los atributos title, description y skills para tener un panorama de qué palabras deben ser filtradas a lo largo de la exploración, pues no aportan con información a esta:"
   ]
  },
  {
   "cell_type": "markdown",
   "id": "huNXq4UgqMRb",
   "metadata": {
    "id": "huNXq4UgqMRb"
   },
   "source": [
    "1500 palabras más utilizadas en title:"
   ]
  },
  {
   "cell_type": "code",
   "execution_count": 24,
   "id": "cc0945d9",
   "metadata": {
    "colab": {
     "base_uri": "https://localhost:8080/"
    },
    "id": "cc0945d9",
    "outputId": "748a9aec-a40b-4663-9f56-291b5a76ff8d"
   },
   "outputs": [
    {
     "data": {
      "text/plain": [
       "[('-', 3302),\n",
       " ('Sales', 735),\n",
       " ('Warehouse', 629),\n",
       " ('Manager', 627),\n",
       " ('Earn', 503),\n",
       " ('to', 498),\n",
       " ('Truck', 495),\n",
       " ('Nurse', 490),\n",
       " ('Assistant', 478),\n",
       " ('up', 466),\n",
       " ('Service', 464),\n",
       " ('Representative', 451),\n",
       " ('Specialist', 431),\n",
       " ('Driver', 411),\n",
       " ('Technician', 404),\n",
       " ('Associate', 403),\n",
       " ('Home', 396),\n",
       " ('CDL', 370),\n",
       " ('A', 348),\n",
       " ('TRAINING', 343),\n",
       " ('Customer', 341),\n",
       " ('Registered', 323),\n",
       " ('Amazon', 294),\n",
       " ('Engineer', 291),\n",
       " ('&', 288)]"
      ]
     },
     "execution_count": 24,
     "metadata": {},
     "output_type": "execute_result"
    }
   ],
   "source": [
    "# 1500 palabras más frecuentes el atributo title\n",
    "words_title = count_words(best_jobsUS_df[\"title\"], 1500)\n",
    "# Mostramos las primeras 25 para evitar extension\n",
    "words_title[:25]"
   ]
  },
  {
   "cell_type": "markdown",
   "id": "B-2lzMrfqFfR",
   "metadata": {
    "id": "B-2lzMrfqFfR"
   },
   "source": [
    "2500 palabras más utilizadas en description:"
   ]
  },
  {
   "cell_type": "code",
   "execution_count": 25,
   "id": "2b0ef46f",
   "metadata": {
    "colab": {
     "base_uri": "https://localhost:8080/"
    },
    "id": "2b0ef46f",
    "outputId": "f4c2cc6c-59d5-4528-b09c-9826feff82d6"
   },
   "outputs": [
    {
     "data": {
      "text/plain": [
       "[('and', 208624),\n",
       " ('to', 130772),\n",
       " ('the', 99187),\n",
       " ('of', 91024),\n",
       " ('a', 69799),\n",
       " ('in', 63569),\n",
       " ('with', 52435),\n",
       " ('for', 51415),\n",
       " ('is', 32692),\n",
       " ('or', 31035),\n",
       " ('as', 24630),\n",
       " ('you', 24395),\n",
       " ('our', 24152),\n",
       " ('on', 23412),\n",
       " ('be', 21121),\n",
       " ('are', 20198),\n",
       " ('your', 18422),\n",
       " ('an', 18043),\n",
       " ('work', 17608),\n",
       " ('will', 16243),\n",
       " ('all', 16133),\n",
       " ('that', 15381),\n",
       " ('at', 13121),\n",
       " ('by', 12657),\n",
       " ('experience', 12420)]"
      ]
     },
     "execution_count": 25,
     "metadata": {},
     "output_type": "execute_result"
    }
   ],
   "source": [
    "# 2500 palabras más frecuentes el atributo description\n",
    "words_description = count_words(best_jobsUS_df[\"description\"], 2500)\n",
    "# Mostramos las primeras 25 para evitar extension\n",
    "words_description[:25]"
   ]
  },
  {
   "cell_type": "markdown",
   "id": "nL-G8EPgp_-x",
   "metadata": {
    "id": "nL-G8EPgp_-x"
   },
   "source": [
    "3000 palabras más utilizadas en skills:"
   ]
  },
  {
   "cell_type": "code",
   "execution_count": 26,
   "id": "6c9c4211",
   "metadata": {
    "colab": {
     "base_uri": "https://localhost:8080/"
    },
    "id": "6c9c4211",
    "outputId": "982091d7-65ed-47a5-df53-1996c4000c99"
   },
   "outputs": [
    {
     "data": {
      "text/plain": [
       "[('Management,', 3905),\n",
       " ('Customer', 2855),\n",
       " ('And', 2766),\n",
       " ('Communication,', 2509),\n",
       " ('Scheduling,', 2210),\n",
       " ('Microsoft', 1990),\n",
       " ('Sales,', 1841),\n",
       " ('Service,', 1710),\n",
       " ('Health', 1696),\n",
       " ('Training,', 1200),\n",
       " ('Hardworking', 1198),\n",
       " ('Dedicated,', 1182),\n",
       " ('Care,', 1151),\n",
       " ('Information', 1141),\n",
       " ('Problem', 1074),\n",
       " ('Complex', 1063),\n",
       " ('Life', 1061),\n",
       " ('Solving,', 1037),\n",
       " ('To', 1017),\n",
       " ('Business', 1001),\n",
       " ('Attention', 941),\n",
       " ('Data', 900),\n",
       " ('Testing,', 896),\n",
       " ('Operations,', 871),\n",
       " ('Detail,', 862)]"
      ]
     },
     "execution_count": 26,
     "metadata": {},
     "output_type": "execute_result"
    }
   ],
   "source": [
    "# 3000 palabras más frecuentes el atributo skills\n",
    "words_skills = count_words(best_jobsUS_df[\"skills\"], 3000)\n",
    "# Mostramos las primeras 25 para evitar extension\n",
    "words_skills[:25]"
   ]
  },
  {
   "cell_type": "markdown",
   "id": "AW80A65zoilE",
   "metadata": {
    "id": "AW80A65zoilE"
   },
   "source": [
    "Con un panorama claro sobre que palabras eliminar, se procede a crear una nueva función que nos muestre las palabras más frecuentes en cada atributo, con el filtro aplicado. Para esto, necesitaremos pasar estas listas a diccionarios, para hacer más eficiente la eliminacion de las ocurrencias:"
   ]
  },
  {
   "cell_type": "code",
   "execution_count": 27,
   "id": "4gxPBIef2J4O",
   "metadata": {
    "id": "4gxPBIef2J4O"
   },
   "outputs": [],
   "source": [
    "dt_title = dict(words_title)\n",
    "dt_description = dict(words_description)\n",
    "dt_skills = dict(words_skills)"
   ]
  },
  {
   "cell_type": "code",
   "execution_count": 28,
   "id": "ENr8qcstpQzS",
   "metadata": {
    "id": "ENr8qcstpQzS"
   },
   "outputs": [],
   "source": [
    "filter = ['The', 'at', 'up', '-', '|', 'Up', 'Daily!', 'of', 'or', 'to', '/', \\\n",
    "         'in', 'I', '16.80/hr', '2nd', 'In', '13', 'To', 'for', '1st', \\\n",
    "         '(Multiple', '--', '(Night', '70k', 'OR', '(Overnight', \\\n",
    "         'Openings!)', 'On', '(Benefits', '18.80/hr', 'Day', 'III', \\\n",
    "         'Rep', '18.95/hr', 'Included)', 'on', 'Sr', '3rd', '(Hiring', \\\n",
    "         'Needed', 'Need', 'Per', 'time', '19.00/hr', '19.65/hr', 'New', \\\n",
    "         '20.30/hr', '12', 'Jobs', '18.25/hr', '17.25/hr', 'At', 'No', \\\n",
    "         'start', 'with', 'Pay', '1', '20.30/hr', '+', '12', '18.25/hr', \\\n",
    "         'and', '&', 'A', 'FROM', 'Week', '4', 'BONUS!', 'advisor/', 'Hiring!' \\\n",
    "         'ON', 'BONUS!', '\"Work', 'Hard,', 'IN', '14.75', '15.25/hour', 'Mon-Thur' \\\n",
    "         '9:30-6:00pm', '10k', 'And', 'To', 'nan', 'Of', 'End', 'New', \\\n",
    "         'and', 'to', 'the', 'of', 'a', 'for', 'with', 'is', 'or', ':', \\\n",
    "         '&amp', 'come', 'minimum', 'miles', 'job.', 'end', 'Are', 'days,' \\\n",
    "         'whole', 'Use', 'upon', 'By', 'X', 'six', 'give', 'IT', 'you.', \\\n",
    "         'It', '[', ']', 'as', 'you', 'our', 'be', 'are', 'your', 'an', \\\n",
    "         'all', 'by', 'that', 'We', 'we', 'have', '•', 'from', 'this', \\\n",
    "         'their', 'can', 'will', 'not', 'Our', 'This', 'who', '–', 'other', 'more', \\\n",
    "          'work', 'working', 'years']\n",
    "\n",
    "# Elimina la llave i del diccionario D\n",
    "def count_words_clean(D):\n",
    "  for i in filter:\n",
    "    D.pop(i, None)\n",
    "  return D\n",
    "  "
   ]
  },
  {
   "cell_type": "markdown",
   "id": "XeVGM_OzqtVT",
   "metadata": {
    "id": "XeVGM_OzqtVT"
   },
   "source": [
    "Ahora, podemos ver las palabras más frecuentes de mejor manera:"
   ]
  },
  {
   "cell_type": "code",
   "execution_count": 29,
   "id": "0BdnlXsLq1aM",
   "metadata": {
    "colab": {
     "base_uri": "https://localhost:8080/"
    },
    "id": "0BdnlXsLq1aM",
    "outputId": "562f584c-a7dc-4b83-bbf4-ad48638e5410"
   },
   "outputs": [
    {
     "data": {
      "text/plain": [
       "[('Sales', 735),\n",
       " ('Warehouse', 629),\n",
       " ('Manager', 627),\n",
       " ('Earn', 503),\n",
       " ('Truck', 495),\n",
       " ('Nurse', 490),\n",
       " ('Assistant', 478),\n",
       " ('Service', 464),\n",
       " ('Representative', 451),\n",
       " ('Specialist', 431),\n",
       " ('Driver', 411),\n",
       " ('Technician', 404),\n",
       " ('Associate', 403),\n",
       " ('Home', 396),\n",
       " ('CDL', 370),\n",
       " ('TRAINING', 343),\n",
       " ('Customer', 341),\n",
       " ('Registered', 323),\n",
       " ('Amazon', 294),\n",
       " ('Engineer', 291),\n",
       " ('Shifts', 275),\n",
       " ('Team', 256),\n",
       " ('Operator', 250),\n",
       " ('Retail', 241),\n",
       " ('Available)', 241)]"
      ]
     },
     "execution_count": 29,
     "metadata": {},
     "output_type": "execute_result"
    }
   ],
   "source": [
    "most_frec_title = count_words_clean(dt_title)\n",
    "titles = list(dt_title.items())\n",
    "titles[:25]"
   ]
  },
  {
   "cell_type": "code",
   "execution_count": 30,
   "id": "Dj1q5QDVq8iv",
   "metadata": {
    "colab": {
     "base_uri": "https://localhost:8080/"
    },
    "id": "Dj1q5QDVq8iv",
    "outputId": "d12120cf-618b-495d-ca0b-2f854fa6bfd4"
   },
   "outputs": [
    {
     "data": {
      "text/plain": [
       "[('experience', 12420),\n",
       " ('customer', 10006),\n",
       " ('team', 8780),\n",
       " ('care', 7489),\n",
       " ('job', 7006),\n",
       " ('Link', 6825),\n",
       " ('Removed', 6813),\n",
       " ('skills', 6577),\n",
       " ('including', 6570),\n",
       " ('provide', 6528),\n",
       " ('business', 5982),\n",
       " ('service', 5797),\n",
       " ('company', 5736),\n",
       " ('support', 5333),\n",
       " ('opportunity', 5300),\n",
       " ('training', 5292),\n",
       " ('new', 5273),\n",
       " ('health', 5108),\n",
       " ('sales', 5091),\n",
       " ('ability', 5020),\n",
       " ('required', 4927),\n",
       " ('environment', 4607),\n",
       " ('career', 4604),\n",
       " ('within', 4568),\n",
       " ('may', 4526)]"
      ]
     },
     "execution_count": 30,
     "metadata": {},
     "output_type": "execute_result"
    }
   ],
   "source": [
    "most_frec_desc = count_words_clean(dt_description)\n",
    "desc = list(dt_description.items())\n",
    "desc[:25]"
   ]
  },
  {
   "cell_type": "code",
   "execution_count": 31,
   "id": "ag63mheQq-Iv",
   "metadata": {
    "colab": {
     "base_uri": "https://localhost:8080/"
    },
    "id": "ag63mheQq-Iv",
    "outputId": "acef0ab5-e233-4068-8b2f-2328827b614f"
   },
   "outputs": [
    {
     "data": {
      "text/plain": [
       "[('Management,', 3905),\n",
       " ('Customer', 2855),\n",
       " ('Communication,', 2509),\n",
       " ('Scheduling,', 2210),\n",
       " ('Microsoft', 1990),\n",
       " ('Sales,', 1841),\n",
       " ('Service,', 1710),\n",
       " ('Health', 1696),\n",
       " ('Training,', 1200),\n",
       " ('Hardworking', 1198),\n",
       " ('Dedicated,', 1182),\n",
       " ('Care,', 1151),\n",
       " ('Information', 1141),\n",
       " ('Problem', 1074),\n",
       " ('Complex', 1063),\n",
       " ('Life', 1061),\n",
       " ('Solving,', 1037),\n",
       " ('Business', 1001),\n",
       " ('Attention', 941),\n",
       " ('Data', 900),\n",
       " ('Testing,', 896),\n",
       " ('Operations,', 871),\n",
       " ('Detail,', 862),\n",
       " ('Development,', 859),\n",
       " ('Self', 853)]"
      ]
     },
     "execution_count": 31,
     "metadata": {},
     "output_type": "execute_result"
    }
   ],
   "source": [
    "most_frec_skills = count_words_clean(dt_skills)\n",
    "skills = list(dt_skills.items())\n",
    "skills[:25]"
   ]
  },
  {
   "cell_type": "markdown",
   "id": "a4373933",
   "metadata": {
    "id": "a4373933"
   },
   "source": [
    "Con esto, se grafican las 15 palabras más frecuentes de cada atributo:"
   ]
  },
  {
   "cell_type": "markdown",
   "id": "cH7CvSFsmIyU",
   "metadata": {
    "id": "cH7CvSFsmIyU"
   },
   "source": [
    "* Gráfico de barras para el atributo *title*:"
   ]
  },
  {
   "cell_type": "code",
   "execution_count": 32,
   "id": "9718c091",
   "metadata": {
    "colab": {
     "base_uri": "https://localhost:8080/",
     "height": 621
    },
    "id": "9718c091",
    "outputId": "28f28cfa-8e9f-41ec-8e9c-b5794f864a6b"
   },
   "outputs": [
    {
     "data": {
      "image/png": "[encoded data removed]",
      "text/plain": [
       "<Figure size 504x720 with 1 Axes>"
      ]
     },
     "metadata": {
      "needs_background": "light"
     },
     "output_type": "display_data"
    }
   ],
   "source": [
    "plt.figure(figsize=(7,10))\n",
    "plt.xlabel('Frecuencia')\n",
    "plt.ylabel('Palabras')\n",
    "x = [titles[i][0] for i in range(0,15)]\n",
    "y = [titles[i][1] for i in range(0,15)]\n",
    "g= plt.barh(x, y, color='orange')\n",
    "plt.title('15 palabras más frecuentes en atributo \"title\"')\n",
    "plt.show()"
   ]
  },
  {
   "cell_type": "markdown",
   "id": "SyJeCuJ1DdsU",
   "metadata": {
    "id": "SyJeCuJ1DdsU"
   },
   "source": [
    "Con esto, se logra ver claramente que durante el año 2021 las ofertas laborales dominantes han sido en las áreas de venta, gerencia y almacenamiento/bodegaje. Esto, probablemente debido al aumento, o boom, del e-commerce durante la pandemía que, hasta la fecha, sigue en curso."
   ]
  },
  {
   "cell_type": "markdown",
   "id": "eax-9mJAmLsi",
   "metadata": {
    "id": "eax-9mJAmLsi"
   },
   "source": [
    "* Gráfico de barras para el atributo *description*:"
   ]
  },
  {
   "cell_type": "code",
   "execution_count": 33,
   "id": "U0VjF9kmmZ8R",
   "metadata": {
    "colab": {
     "base_uri": "https://localhost:8080/",
     "height": 621
    },
    "id": "U0VjF9kmmZ8R",
    "outputId": "84c4ec62-74a3-42d0-e19a-658b9109a3c8"
   },
   "outputs": [
    {
     "data": {
      "image/png": "[encoded data removed]",
      "text/plain": [
       "<Figure size 504x720 with 1 Axes>"
      ]
     },
     "metadata": {
      "needs_background": "light"
     },
     "output_type": "display_data"
    }
   ],
   "source": [
    "plt.figure(figsize=(7,10))\n",
    "plt.xlabel('Frecuencia')\n",
    "plt.ylabel('Palabras')\n",
    "x = [desc[i][0] for i in range(0,15)]\n",
    "y = [desc[i][1] for i in range(0,15)]\n",
    "g= plt.barh(x, y, color='pink')\n",
    "plt.title('15 palabras más frecuentes en atributo \"description\"')\n",
    "plt.show()"
   ]
  },
  {
   "cell_type": "markdown",
   "id": "rxMyMFfpH0Kq",
   "metadata": {
    "id": "rxMyMFfpH0Kq"
   },
   "source": [
    "Dentro de las descripciones de los trabajos, se ve un uso muy frecuente de la palabra experiencia, cliente y equipo."
   ]
  },
  {
   "cell_type": "markdown",
   "id": "9wrcayfamOWZ",
   "metadata": {
    "id": "9wrcayfamOWZ"
   },
   "source": [
    "* Gráfico de barras para el atributo *skills*:"
   ]
  },
  {
   "cell_type": "code",
   "execution_count": 34,
   "id": "h00rxFvLmea9",
   "metadata": {
    "colab": {
     "base_uri": "https://localhost:8080/",
     "height": 621
    },
    "id": "h00rxFvLmea9",
    "outputId": "36311593-5c42-4dde-a4eb-351e78aef91b"
   },
   "outputs": [
    {
     "data": {
      "image/png": "[encoded data removed]",
      "text/plain": [
       "<Figure size 504x720 with 1 Axes>"
      ]
     },
     "metadata": {
      "needs_background": "light"
     },
     "output_type": "display_data"
    }
   ],
   "source": [
    "plt.figure(figsize=(7,10))\n",
    "plt.xlabel('Frecuencia')\n",
    "plt.ylabel('Palabras')\n",
    "x = [skills[i][0] for i in range(0,15)]\n",
    "y = [skills[i][1] for i in range(0,15)]\n",
    "g= plt.barh(x, y, color='purple')\n",
    "plt.title('15 palabras más frecuentes en atributo \"skills\"')\n",
    "plt.show()"
   ]
  },
  {
   "cell_type": "markdown",
   "id": "480B4W2OFqRJ",
   "metadata": {
    "id": "480B4W2OFqRJ"
   },
   "source": [
    "A pesar de verse una clara dominancia de la *skill* de administración, las ofertas tienen un gran interés también en la comunicación y planificación, habilidades muy ligadas con la organización."
   ]
  },
  {
   "cell_type": "markdown",
   "id": "5DFeVPrB3RIX",
   "metadata": {
    "id": "5DFeVPrB3RIX"
   },
   "source": [
    "## 2.5 Correlación entre variables\n"
   ]
  },
  {
   "cell_type": "markdown",
   "id": "pR99FcNG3epe",
   "metadata": {
    "id": "pR99FcNG3epe"
   },
   "source": [
    "El objetivo de esta sección de exploración, es encontrar correlaciones entre la variable normalized (salarios normalizados) y otras variables de nuestro interés. Esto con el propósito de estudiar con qué variables se relaciona el salario y saber si coincide con las variables que se pensaron."
   ]
  },
  {
   "cell_type": "markdown",
   "id": "jYKwklo43iJL",
   "metadata": {
    "id": "jYKwklo43iJL"
   },
   "source": [
    "Lo primero que se quería observar, era si el largo (cantidad de palabras) de la descripción estaba relacionado con el salario, para esto se creó la variable \"word_count\" que contaba la cantidad de palabras que tenía la descripción."
   ]
  },
  {
   "cell_type": "code",
   "execution_count": 35,
   "id": "fLjnAIsl3ljV",
   "metadata": {
    "id": "fLjnAIsl3ljV"
   },
   "outputs": [],
   "source": [
    "best_jobsUS_df[\"word_count\"] = best_jobsUS_df[\"description\"].str.split().str.len()"
   ]
  },
  {
   "cell_type": "code",
   "execution_count": 36,
   "id": "YuZYCd-s3q54",
   "metadata": {
    "colab": {
     "base_uri": "https://localhost:8080/",
     "height": 971
    },
    "id": "YuZYCd-s3q54",
    "outputId": "f1b751f3-cda9-4a71-a7c8-3c7e6b4762b0"
   },
   "outputs": [
    {
     "data": {
      "text/html": [
       "<div>\n",
       "<style scoped>\n",
       "    .dataframe tbody tr th:only-of-type {\n",
       "        vertical-align: middle;\n",
       "    }\n",
       "\n",
       "    .dataframe tbody tr th {\n",
       "        vertical-align: top;\n",
       "    }\n",
       "\n",
       "    .dataframe thead th {\n",
       "        text-align: right;\n",
       "    }\n",
       "</style>\n",
       "<table border=\"1\" class=\"dataframe\">\n",
       "  <thead>\n",
       "    <tr style=\"text-align: right;\">\n",
       "      <th></th>\n",
       "      <th>salary</th>\n",
       "      <th>wage_type</th>\n",
       "      <th>education</th>\n",
       "      <th>crawled_at</th>\n",
       "      <th>description</th>\n",
       "      <th>title</th>\n",
       "      <th>skills</th>\n",
       "      <th>country</th>\n",
       "      <th>locality</th>\n",
       "      <th>posted_at</th>\n",
       "      <th>region</th>\n",
       "      <th>experience</th>\n",
       "      <th>employment_type</th>\n",
       "      <th>company</th>\n",
       "      <th>str_salary</th>\n",
       "      <th>reported_salary</th>\n",
       "      <th>normalized</th>\n",
       "      <th>yearly_salary</th>\n",
       "      <th>hourly_salary</th>\n",
       "      <th>word_count</th>\n",
       "    </tr>\n",
       "    <tr>\n",
       "      <th>posted_at</th>\n",
       "      <th></th>\n",
       "      <th></th>\n",
       "      <th></th>\n",
       "      <th></th>\n",
       "      <th></th>\n",
       "      <th></th>\n",
       "      <th></th>\n",
       "      <th></th>\n",
       "      <th></th>\n",
       "      <th></th>\n",
       "      <th></th>\n",
       "      <th></th>\n",
       "      <th></th>\n",
       "      <th></th>\n",
       "      <th></th>\n",
       "      <th></th>\n",
       "      <th></th>\n",
       "      <th></th>\n",
       "      <th></th>\n",
       "      <th></th>\n",
       "    </tr>\n",
       "  </thead>\n",
       "  <tbody>\n",
       "    <tr>\n",
       "      <th>2021-04-14 03:24:00</th>\n",
       "      <td>not_reported</td>\n",
       "      <td>not_reported</td>\n",
       "      <td>High School</td>\n",
       "      <td>5/5/2021 3:14</td>\n",
       "      <td>Come work with us at Spencer's &amp;amp; Spirit Ha...</td>\n",
       "      <td>District Sales Manager</td>\n",
       "      <td>Retail Management, Recruitment, Customer Servi...</td>\n",
       "      <td>US</td>\n",
       "      <td>Brooklyn</td>\n",
       "      <td>14-04-2021 3:24</td>\n",
       "      <td>NY</td>\n",
       "      <td>Up to 5 years experience.</td>\n",
       "      <td>FULL_TIME</td>\n",
       "      <td>Spirit Halloween</td>\n",
       "      <td>True</td>\n",
       "      <td>0.0</td>\n",
       "      <td>0.0</td>\n",
       "      <td>NaN</td>\n",
       "      <td>NaN</td>\n",
       "      <td>400.0</td>\n",
       "    </tr>\n",
       "    <tr>\n",
       "      <th>2021-10-04 22:12:00</th>\n",
       "      <td>not_reported</td>\n",
       "      <td>not_reported</td>\n",
       "      <td>Associate's Degree</td>\n",
       "      <td>5/5/2021 3:14</td>\n",
       "      <td>How would you like to work in a place where yo...</td>\n",
       "      <td>Licensed Practical Nurse (LPN) - Oncology Floa...</td>\n",
       "      <td>Licensed Practical Nurse, Nursing, Registered ...</td>\n",
       "      <td>US</td>\n",
       "      <td>Marietta</td>\n",
       "      <td>10/4/2021 22:12</td>\n",
       "      <td>GA</td>\n",
       "      <td>No experience required.</td>\n",
       "      <td>FULL_TIME</td>\n",
       "      <td>WellStar Health System</td>\n",
       "      <td>True</td>\n",
       "      <td>0.0</td>\n",
       "      <td>0.0</td>\n",
       "      <td>NaN</td>\n",
       "      <td>NaN</td>\n",
       "      <td>330.0</td>\n",
       "    </tr>\n",
       "    <tr>\n",
       "      <th>2021-04-29 06:47:00</th>\n",
       "      <td>45000</td>\n",
       "      <td>year</td>\n",
       "      <td>NaN</td>\n",
       "      <td>5/5/2021 3:25</td>\n",
       "      <td>Ref ID: 03230 [ Phone number blocked ] Classif...</td>\n",
       "      <td>Collections Specialist</td>\n",
       "      <td>Accounts Receivable, Collections, Medical Bill...</td>\n",
       "      <td>US</td>\n",
       "      <td>Greenville</td>\n",
       "      <td>29-04-2021 6:47</td>\n",
       "      <td>SC</td>\n",
       "      <td>At least 2 years experience.</td>\n",
       "      <td>FULL_TIME</td>\n",
       "      <td>Robert Half</td>\n",
       "      <td>False</td>\n",
       "      <td>45000.0</td>\n",
       "      <td>45000.0</td>\n",
       "      <td>45000.0</td>\n",
       "      <td>21.634615</td>\n",
       "      <td>248.0</td>\n",
       "    </tr>\n",
       "    <tr>\n",
       "      <th>2021-04-23 12:37:00</th>\n",
       "      <td>240000</td>\n",
       "      <td>year</td>\n",
       "      <td>NaN</td>\n",
       "      <td>5/5/2021 3:08</td>\n",
       "      <td>Ref ID: 00410 [ Phone number blocked ] Classif...</td>\n",
       "      <td>Sr. Corporate Counsel</td>\n",
       "      <td>Mergers And Acquisitions, Corporate Security, ...</td>\n",
       "      <td>US</td>\n",
       "      <td>Redwood City</td>\n",
       "      <td>23-04-2021 12:37</td>\n",
       "      <td>CA</td>\n",
       "      <td>At least 5 years experience.</td>\n",
       "      <td>FULL_TIME</td>\n",
       "      <td>Robert Half</td>\n",
       "      <td>False</td>\n",
       "      <td>240000.0</td>\n",
       "      <td>240000.0</td>\n",
       "      <td>240000.0</td>\n",
       "      <td>115.384615</td>\n",
       "      <td>570.0</td>\n",
       "    </tr>\n",
       "    <tr>\n",
       "      <th>2021-04-26 11:39:00</th>\n",
       "      <td>not_reported</td>\n",
       "      <td>not_reported</td>\n",
       "      <td>Bachelor's Degree</td>\n",
       "      <td>5/5/2021 3:03</td>\n",
       "      <td>Primary Purpose:  Provide expertise and suppor...</td>\n",
       "      <td>Product Analyst I</td>\n",
       "      <td>Stress Management, Economics, Finance, Time Ma...</td>\n",
       "      <td>US</td>\n",
       "      <td>Chicago</td>\n",
       "      <td>26-04-2021 11:39</td>\n",
       "      <td>IL</td>\n",
       "      <td>NaN</td>\n",
       "      <td>FULL_TIME</td>\n",
       "      <td>National General Insurance</td>\n",
       "      <td>True</td>\n",
       "      <td>0.0</td>\n",
       "      <td>0.0</td>\n",
       "      <td>NaN</td>\n",
       "      <td>NaN</td>\n",
       "      <td>273.0</td>\n",
       "    </tr>\n",
       "    <tr>\n",
       "      <th>2021-04-27 12:38:00</th>\n",
       "      <td>not_reported</td>\n",
       "      <td>not_reported</td>\n",
       "      <td>NaN</td>\n",
       "      <td>5/5/2021 3:15</td>\n",
       "      <td>Retail Office AssociatesPart-Time and Full Tim...</td>\n",
       "      <td>Retail Office Associate</td>\n",
       "      <td>Sales, Interpersonal Skills, Retailing, Active...</td>\n",
       "      <td>US</td>\n",
       "      <td>North Canton</td>\n",
       "      <td>27-04-2021 12:38</td>\n",
       "      <td>OH</td>\n",
       "      <td>NaN</td>\n",
       "      <td>FULL_TIME</td>\n",
       "      <td>Bob's Discount Furniture</td>\n",
       "      <td>True</td>\n",
       "      <td>0.0</td>\n",
       "      <td>0.0</td>\n",
       "      <td>NaN</td>\n",
       "      <td>NaN</td>\n",
       "      <td>540.0</td>\n",
       "    </tr>\n",
       "    <tr>\n",
       "      <th>2021-04-14 14:20:00</th>\n",
       "      <td>not_reported</td>\n",
       "      <td>not_reported</td>\n",
       "      <td>High School</td>\n",
       "      <td>5/5/2021 3:27</td>\n",
       "      <td>Dental Assistant (General Dentistry Practice) ...</td>\n",
       "      <td>Dental Assistant (General Dentistry Practice)</td>\n",
       "      <td>Instructions, Dental Surgery, Hygiene, Infecti...</td>\n",
       "      <td>US</td>\n",
       "      <td>Barefoot Beach</td>\n",
       "      <td>14-04-2021 14:20</td>\n",
       "      <td>FL</td>\n",
       "      <td>NaN</td>\n",
       "      <td>FULL_TIME</td>\n",
       "      <td>Aspen Dental</td>\n",
       "      <td>True</td>\n",
       "      <td>0.0</td>\n",
       "      <td>0.0</td>\n",
       "      <td>NaN</td>\n",
       "      <td>NaN</td>\n",
       "      <td>255.0</td>\n",
       "    </tr>\n",
       "    <tr>\n",
       "      <th>2021-07-04 20:22:00</th>\n",
       "      <td>not_reported</td>\n",
       "      <td>not_reported</td>\n",
       "      <td>High School</td>\n",
       "      <td>5/5/2021 3:02</td>\n",
       "      <td>Current Compassus Colleagues: Please apply via...</td>\n",
       "      <td>Hospice Aide</td>\n",
       "      <td>Registered Nurse Certified, Scheduling, Skin C...</td>\n",
       "      <td>US</td>\n",
       "      <td>Billings</td>\n",
       "      <td>7/4/2021 20:22</td>\n",
       "      <td>MT</td>\n",
       "      <td>NaN</td>\n",
       "      <td>FULL_TIME</td>\n",
       "      <td>Compassus</td>\n",
       "      <td>True</td>\n",
       "      <td>0.0</td>\n",
       "      <td>0.0</td>\n",
       "      <td>NaN</td>\n",
       "      <td>NaN</td>\n",
       "      <td>407.0</td>\n",
       "    </tr>\n",
       "    <tr>\n",
       "      <th>2021-04-21 11:18:00</th>\n",
       "      <td>not_reported</td>\n",
       "      <td>not_reported</td>\n",
       "      <td>Graduate Degree</td>\n",
       "      <td>5/5/2021 3:17</td>\n",
       "      <td>:Improve the performance of critical forecasti...</td>\n",
       "      <td>Quantitative Finance Analyst</td>\n",
       "      <td>Storage (Warehousing), Scale (Map), Mathematic...</td>\n",
       "      <td>US</td>\n",
       "      <td>Jersey City</td>\n",
       "      <td>21-04-2021 11:18</td>\n",
       "      <td>NJ</td>\n",
       "      <td>At least 2 years experience.</td>\n",
       "      <td>FULL_TIME</td>\n",
       "      <td>Bank of America</td>\n",
       "      <td>True</td>\n",
       "      <td>0.0</td>\n",
       "      <td>0.0</td>\n",
       "      <td>NaN</td>\n",
       "      <td>NaN</td>\n",
       "      <td>253.0</td>\n",
       "    </tr>\n",
       "    <tr>\n",
       "      <th>2021-09-04 21:07:00</th>\n",
       "      <td>not_reported</td>\n",
       "      <td>not_reported</td>\n",
       "      <td>High School</td>\n",
       "      <td>5/5/2021 3:27</td>\n",
       "      <td>SummaryA career built on Solid Ground means yo...</td>\n",
       "      <td>Human Resources Representative</td>\n",
       "      <td>Scheduling, Training, Recruitment, Human Resou...</td>\n",
       "      <td>US</td>\n",
       "      <td>Sugar Land</td>\n",
       "      <td>9/4/2021 21:07</td>\n",
       "      <td>TX</td>\n",
       "      <td>1 to 3 years experience.</td>\n",
       "      <td>FULL_TIME</td>\n",
       "      <td>NPL Construction Co.</td>\n",
       "      <td>True</td>\n",
       "      <td>0.0</td>\n",
       "      <td>0.0</td>\n",
       "      <td>NaN</td>\n",
       "      <td>NaN</td>\n",
       "      <td>496.0</td>\n",
       "    </tr>\n",
       "  </tbody>\n",
       "</table>\n",
       "</div>"
      ],
      "text/plain": [
       "                           salary     wage_type           education  \\\n",
       "posted_at                                                             \n",
       "2021-04-14 03:24:00  not_reported  not_reported         High School   \n",
       "2021-10-04 22:12:00  not_reported  not_reported  Associate's Degree   \n",
       "2021-04-29 06:47:00         45000          year                 NaN   \n",
       "2021-04-23 12:37:00        240000          year                 NaN   \n",
       "2021-04-26 11:39:00  not_reported  not_reported   Bachelor's Degree   \n",
       "2021-04-27 12:38:00  not_reported  not_reported                 NaN   \n",
       "2021-04-14 14:20:00  not_reported  not_reported         High School   \n",
       "2021-07-04 20:22:00  not_reported  not_reported         High School   \n",
       "2021-04-21 11:18:00  not_reported  not_reported     Graduate Degree   \n",
       "2021-09-04 21:07:00  not_reported  not_reported         High School   \n",
       "\n",
       "                        crawled_at  \\\n",
       "posted_at                            \n",
       "2021-04-14 03:24:00  5/5/2021 3:14   \n",
       "2021-10-04 22:12:00  5/5/2021 3:14   \n",
       "2021-04-29 06:47:00  5/5/2021 3:25   \n",
       "2021-04-23 12:37:00  5/5/2021 3:08   \n",
       "2021-04-26 11:39:00  5/5/2021 3:03   \n",
       "2021-04-27 12:38:00  5/5/2021 3:15   \n",
       "2021-04-14 14:20:00  5/5/2021 3:27   \n",
       "2021-07-04 20:22:00  5/5/2021 3:02   \n",
       "2021-04-21 11:18:00  5/5/2021 3:17   \n",
       "2021-09-04 21:07:00  5/5/2021 3:27   \n",
       "\n",
       "                                                           description  \\\n",
       "posted_at                                                                \n",
       "2021-04-14 03:24:00  Come work with us at Spencer's &amp; Spirit Ha...   \n",
       "2021-10-04 22:12:00  How would you like to work in a place where yo...   \n",
       "2021-04-29 06:47:00  Ref ID: 03230 [ Phone number blocked ] Classif...   \n",
       "2021-04-23 12:37:00  Ref ID: 00410 [ Phone number blocked ] Classif...   \n",
       "2021-04-26 11:39:00  Primary Purpose:  Provide expertise and suppor...   \n",
       "2021-04-27 12:38:00  Retail Office AssociatesPart-Time and Full Tim...   \n",
       "2021-04-14 14:20:00  Dental Assistant (General Dentistry Practice) ...   \n",
       "2021-07-04 20:22:00  Current Compassus Colleagues: Please apply via...   \n",
       "2021-04-21 11:18:00  :Improve the performance of critical forecasti...   \n",
       "2021-09-04 21:07:00  SummaryA career built on Solid Ground means yo...   \n",
       "\n",
       "                                                                 title  \\\n",
       "posted_at                                                                \n",
       "2021-04-14 03:24:00                             District Sales Manager   \n",
       "2021-10-04 22:12:00  Licensed Practical Nurse (LPN) - Oncology Floa...   \n",
       "2021-04-29 06:47:00                             Collections Specialist   \n",
       "2021-04-23 12:37:00                              Sr. Corporate Counsel   \n",
       "2021-04-26 11:39:00                                  Product Analyst I   \n",
       "2021-04-27 12:38:00                            Retail Office Associate   \n",
       "2021-04-14 14:20:00      Dental Assistant (General Dentistry Practice)   \n",
       "2021-07-04 20:22:00                                       Hospice Aide   \n",
       "2021-04-21 11:18:00                       Quantitative Finance Analyst   \n",
       "2021-09-04 21:07:00                     Human Resources Representative   \n",
       "\n",
       "                                                                skills  \\\n",
       "posted_at                                                                \n",
       "2021-04-14 03:24:00  Retail Management, Recruitment, Customer Servi...   \n",
       "2021-10-04 22:12:00  Licensed Practical Nurse, Nursing, Registered ...   \n",
       "2021-04-29 06:47:00  Accounts Receivable, Collections, Medical Bill...   \n",
       "2021-04-23 12:37:00  Mergers And Acquisitions, Corporate Security, ...   \n",
       "2021-04-26 11:39:00  Stress Management, Economics, Finance, Time Ma...   \n",
       "2021-04-27 12:38:00  Sales, Interpersonal Skills, Retailing, Active...   \n",
       "2021-04-14 14:20:00  Instructions, Dental Surgery, Hygiene, Infecti...   \n",
       "2021-07-04 20:22:00  Registered Nurse Certified, Scheduling, Skin C...   \n",
       "2021-04-21 11:18:00  Storage (Warehousing), Scale (Map), Mathematic...   \n",
       "2021-09-04 21:07:00  Scheduling, Training, Recruitment, Human Resou...   \n",
       "\n",
       "                    country        locality         posted_at region  \\\n",
       "posted_at                                                              \n",
       "2021-04-14 03:24:00      US        Brooklyn   14-04-2021 3:24     NY   \n",
       "2021-10-04 22:12:00      US        Marietta   10/4/2021 22:12     GA   \n",
       "2021-04-29 06:47:00      US      Greenville   29-04-2021 6:47     SC   \n",
       "2021-04-23 12:37:00      US    Redwood City  23-04-2021 12:37     CA   \n",
       "2021-04-26 11:39:00      US         Chicago  26-04-2021 11:39     IL   \n",
       "2021-04-27 12:38:00      US    North Canton  27-04-2021 12:38     OH   \n",
       "2021-04-14 14:20:00      US  Barefoot Beach  14-04-2021 14:20     FL   \n",
       "2021-07-04 20:22:00      US        Billings    7/4/2021 20:22     MT   \n",
       "2021-04-21 11:18:00      US     Jersey City  21-04-2021 11:18     NJ   \n",
       "2021-09-04 21:07:00      US      Sugar Land    9/4/2021 21:07     TX   \n",
       "\n",
       "                                       experience employment_type  \\\n",
       "posted_at                                                           \n",
       "2021-04-14 03:24:00     Up to 5 years experience.       FULL_TIME   \n",
       "2021-10-04 22:12:00       No experience required.       FULL_TIME   \n",
       "2021-04-29 06:47:00  At least 2 years experience.       FULL_TIME   \n",
       "2021-04-23 12:37:00  At least 5 years experience.       FULL_TIME   \n",
       "2021-04-26 11:39:00                           NaN       FULL_TIME   \n",
       "2021-04-27 12:38:00                           NaN       FULL_TIME   \n",
       "2021-04-14 14:20:00                           NaN       FULL_TIME   \n",
       "2021-07-04 20:22:00                           NaN       FULL_TIME   \n",
       "2021-04-21 11:18:00  At least 2 years experience.       FULL_TIME   \n",
       "2021-09-04 21:07:00      1 to 3 years experience.       FULL_TIME   \n",
       "\n",
       "                                        company  str_salary  reported_salary  \\\n",
       "posted_at                                                                      \n",
       "2021-04-14 03:24:00            Spirit Halloween        True              0.0   \n",
       "2021-10-04 22:12:00      WellStar Health System        True              0.0   \n",
       "2021-04-29 06:47:00                 Robert Half       False          45000.0   \n",
       "2021-04-23 12:37:00                 Robert Half       False         240000.0   \n",
       "2021-04-26 11:39:00  National General Insurance        True              0.0   \n",
       "2021-04-27 12:38:00    Bob's Discount Furniture        True              0.0   \n",
       "2021-04-14 14:20:00                Aspen Dental        True              0.0   \n",
       "2021-07-04 20:22:00                   Compassus        True              0.0   \n",
       "2021-04-21 11:18:00             Bank of America        True              0.0   \n",
       "2021-09-04 21:07:00        NPL Construction Co.        True              0.0   \n",
       "\n",
       "                     normalized  yearly_salary  hourly_salary  word_count  \n",
       "posted_at                                                                  \n",
       "2021-04-14 03:24:00         0.0            NaN            NaN       400.0  \n",
       "2021-10-04 22:12:00         0.0            NaN            NaN       330.0  \n",
       "2021-04-29 06:47:00     45000.0        45000.0      21.634615       248.0  \n",
       "2021-04-23 12:37:00    240000.0       240000.0     115.384615       570.0  \n",
       "2021-04-26 11:39:00         0.0            NaN            NaN       273.0  \n",
       "2021-04-27 12:38:00         0.0            NaN            NaN       540.0  \n",
       "2021-04-14 14:20:00         0.0            NaN            NaN       255.0  \n",
       "2021-07-04 20:22:00         0.0            NaN            NaN       407.0  \n",
       "2021-04-21 11:18:00         0.0            NaN            NaN       253.0  \n",
       "2021-09-04 21:07:00         0.0            NaN            NaN       496.0  "
      ]
     },
     "execution_count": 36,
     "metadata": {},
     "output_type": "execute_result"
    }
   ],
   "source": [
    "best_jobsUS_df.sample(10)"
   ]
  },
  {
   "cell_type": "markdown",
   "id": "By1dXCfR3kMY",
   "metadata": {
    "id": "By1dXCfR3kMY"
   },
   "source": [
    "Luego se creó un dataframe en donde estaban las variables del salario normalizado: \"normalized\" y la variable recién creada \"word_count\""
   ]
  },
  {
   "cell_type": "code",
   "execution_count": 37,
   "id": "tw3JCa6D3yfw",
   "metadata": {
    "id": "tw3JCa6D3yfw"
   },
   "outputs": [],
   "source": [
    "df_corr = pd.DataFrame(best_jobsUS_df, columns=['normalized', 'word_count'])"
   ]
  },
  {
   "cell_type": "code",
   "execution_count": 38,
   "id": "IbpVJv1G31ea",
   "metadata": {
    "colab": {
     "base_uri": "https://localhost:8080/",
     "height": 390
    },
    "id": "IbpVJv1G31ea",
    "outputId": "e3c18a29-a49b-4f8d-f26e-504cb1b6c55c"
   },
   "outputs": [
    {
     "data": {
      "text/html": [
       "<div>\n",
       "<style scoped>\n",
       "    .dataframe tbody tr th:only-of-type {\n",
       "        vertical-align: middle;\n",
       "    }\n",
       "\n",
       "    .dataframe tbody tr th {\n",
       "        vertical-align: top;\n",
       "    }\n",
       "\n",
       "    .dataframe thead th {\n",
       "        text-align: right;\n",
       "    }\n",
       "</style>\n",
       "<table border=\"1\" class=\"dataframe\">\n",
       "  <thead>\n",
       "    <tr style=\"text-align: right;\">\n",
       "      <th></th>\n",
       "      <th>normalized</th>\n",
       "      <th>word_count</th>\n",
       "    </tr>\n",
       "    <tr>\n",
       "      <th>posted_at</th>\n",
       "      <th></th>\n",
       "      <th></th>\n",
       "    </tr>\n",
       "  </thead>\n",
       "  <tbody>\n",
       "    <tr>\n",
       "      <th>2021-04-27 20:38:00</th>\n",
       "      <td>0.0</td>\n",
       "      <td>189.0</td>\n",
       "    </tr>\n",
       "    <tr>\n",
       "      <th>2021-04-30 21:01:00</th>\n",
       "      <td>0.0</td>\n",
       "      <td>445.0</td>\n",
       "    </tr>\n",
       "    <tr>\n",
       "      <th>2021-07-04 14:14:00</th>\n",
       "      <td>0.0</td>\n",
       "      <td>272.0</td>\n",
       "    </tr>\n",
       "    <tr>\n",
       "      <th>2021-04-16 04:34:00</th>\n",
       "      <td>0.0</td>\n",
       "      <td>679.0</td>\n",
       "    </tr>\n",
       "    <tr>\n",
       "      <th>2021-02-05 14:40:00</th>\n",
       "      <td>95680.0</td>\n",
       "      <td>91.0</td>\n",
       "    </tr>\n",
       "    <tr>\n",
       "      <th>2021-04-15 09:57:00</th>\n",
       "      <td>0.0</td>\n",
       "      <td>516.0</td>\n",
       "    </tr>\n",
       "    <tr>\n",
       "      <th>2021-02-05 22:20:00</th>\n",
       "      <td>0.0</td>\n",
       "      <td>506.0</td>\n",
       "    </tr>\n",
       "    <tr>\n",
       "      <th>2021-04-16 12:03:00</th>\n",
       "      <td>0.0</td>\n",
       "      <td>473.0</td>\n",
       "    </tr>\n",
       "    <tr>\n",
       "      <th>2021-01-05 09:12:00</th>\n",
       "      <td>0.0</td>\n",
       "      <td>360.0</td>\n",
       "    </tr>\n",
       "    <tr>\n",
       "      <th>2021-04-30 13:18:00</th>\n",
       "      <td>0.0</td>\n",
       "      <td>171.0</td>\n",
       "    </tr>\n",
       "  </tbody>\n",
       "</table>\n",
       "</div>"
      ],
      "text/plain": [
       "                     normalized  word_count\n",
       "posted_at                                  \n",
       "2021-04-27 20:38:00         0.0       189.0\n",
       "2021-04-30 21:01:00         0.0       445.0\n",
       "2021-07-04 14:14:00         0.0       272.0\n",
       "2021-04-16 04:34:00         0.0       679.0\n",
       "2021-02-05 14:40:00     95680.0        91.0\n",
       "2021-04-15 09:57:00         0.0       516.0\n",
       "2021-02-05 22:20:00         0.0       506.0\n",
       "2021-04-16 12:03:00         0.0       473.0\n",
       "2021-01-05 09:12:00         0.0       360.0\n",
       "2021-04-30 13:18:00         0.0       171.0"
      ]
     },
     "execution_count": 38,
     "metadata": {},
     "output_type": "execute_result"
    }
   ],
   "source": [
    "df_corr.sample(10)"
   ]
  },
  {
   "cell_type": "markdown",
   "id": "_msomFZZ3wz8",
   "metadata": {
    "id": "_msomFZZ3wz8"
   },
   "source": [
    "Finalmente, se calculó el coeficiente de correlación entre ambas variables"
   ]
  },
  {
   "cell_type": "code",
   "execution_count": 39,
   "id": "WLUrTeXk4B_N",
   "metadata": {
    "colab": {
     "base_uri": "https://localhost:8080/",
     "height": 111
    },
    "id": "WLUrTeXk4B_N",
    "outputId": "4edec74e-f478-440b-8745-d4a050579172"
   },
   "outputs": [
    {
     "data": {
      "text/html": [
       "<div>\n",
       "<style scoped>\n",
       "    .dataframe tbody tr th:only-of-type {\n",
       "        vertical-align: middle;\n",
       "    }\n",
       "\n",
       "    .dataframe tbody tr th {\n",
       "        vertical-align: top;\n",
       "    }\n",
       "\n",
       "    .dataframe thead th {\n",
       "        text-align: right;\n",
       "    }\n",
       "</style>\n",
       "<table border=\"1\" class=\"dataframe\">\n",
       "  <thead>\n",
       "    <tr style=\"text-align: right;\">\n",
       "      <th></th>\n",
       "      <th>normalized</th>\n",
       "      <th>word_count</th>\n",
       "    </tr>\n",
       "  </thead>\n",
       "  <tbody>\n",
       "    <tr>\n",
       "      <th>normalized</th>\n",
       "      <td>1.000000</td>\n",
       "      <td>-0.096618</td>\n",
       "    </tr>\n",
       "    <tr>\n",
       "      <th>word_count</th>\n",
       "      <td>-0.096618</td>\n",
       "      <td>1.000000</td>\n",
       "    </tr>\n",
       "  </tbody>\n",
       "</table>\n",
       "</div>"
      ],
      "text/plain": [
       "            normalized  word_count\n",
       "normalized    1.000000   -0.096618\n",
       "word_count   -0.096618    1.000000"
      ]
     },
     "execution_count": 39,
     "metadata": {},
     "output_type": "execute_result"
    }
   ],
   "source": [
    "df_corr.corr()"
   ]
  },
  {
   "cell_type": "markdown",
   "id": "9jd7Jtai397r",
   "metadata": {
    "id": "9jd7Jtai397r"
   },
   "source": [
    "De los resultados se puede apreciar que el valor obtenido es muy cercano a 0, esto quiere decir que ambas variables no están correlacionadas, por lo que el largo de la descripción no está relacionado con el salario."
   ]
  },
  {
   "cell_type": "markdown",
   "id": "fCcxTOkM4HCM",
   "metadata": {
    "id": "fCcxTOkM4HCM"
   },
   "source": [
    "Otras variables que eran de interés eran: locality (ciudad de donde es la oferta), title (título del cargo) y education (nivel de educación requerido). Por lo que se estudió la correlación en R para ver si efectivamente estas variables estaban relacionadas con el salario."
   ]
  },
  {
   "cell_type": "markdown",
   "id": "MnAuCX9Q4JnQ",
   "metadata": {
    "id": "MnAuCX9Q4JnQ"
   },
   "source": [
    "Para obtener los coeficientes de correlación, en R se utilizó el comando corRatio de la librería DiscriMiner, este comando permite calcular coeficientes de correlación entre una variable numérica con una categórica, con el siguiente código y arrojando los siguientes resultados:"
   ]
  },
  {
   "cell_type": "markdown",
   "id": "KkQSa2-h4MJ1",
   "metadata": {
    "id": "KkQSa2-h4MJ1"
   },
   "source": [
    "### corRatio\n",
    "\n",
    "corRatio(Best_Jobs\\$normalized, Best_Jobs\\$locality) \\\\\n",
    "corRatio(Best_Jobs\\$normalized, Best_Jobs\\$title) \\\\\n",
    "corRatio(Best_Jobs\\$normalized, Best_Jobs\\$education) \n",
    "\n",
    "0.2498862 \\\\\n",
    "0.812064 \\\\\n",
    "0.1029589"
   ]
  },
  {
   "cell_type": "markdown",
   "id": "Mhv5Gela4YON",
   "metadata": {
    "id": "Mhv5Gela4YON"
   },
   "source": [
    "Del resultado se puede apreciar que las variables locality y education están poco correlacionadas con el salario, mientras que title está muy correlacionado. Por lo que se concluye que el salario tiene mucha relación con el título del cargo con el que se postea la oferta."
   ]
  },
  {
   "cell_type": "markdown",
   "id": "4d_v07HS5cXr",
   "metadata": {
    "id": "4d_v07HS5cXr"
   },
   "source": [
    "## 2.6 Exploración sobre grado de educación, regiones y horas\n"
   ]
  },
  {
   "cell_type": "markdown",
   "id": "qgp4aiwA5kMr",
   "metadata": {
    "id": "qgp4aiwA5kMr"
   },
   "source": [
    "En esta sección se quiere obtener cuáles eran los requisitos de educación más recurrentes en las ofertas de trabajo, las ciudades/estados con más ofertas y a qué hora eran publicadas con más frecuencia."
   ]
  },
  {
   "cell_type": "markdown",
   "id": "X-G3rOEb5-2M",
   "metadata": {
    "id": "X-G3rOEb5-2M"
   },
   "source": [
    "### Educación requerida en ofertas de trabajo"
   ]
  },
  {
   "cell_type": "code",
   "execution_count": 40,
   "id": "GK7tTf_i5llQ",
   "metadata": {
    "colab": {
     "base_uri": "https://localhost:8080/",
     "height": 452
    },
    "id": "GK7tTf_i5llQ",
    "outputId": "2e8feab1-6df5-417f-9b13-b9e5991b0c34"
   },
   "outputs": [
    {
     "data": {
      "text/html": [
       "<div>\n",
       "<style scoped>\n",
       "    .dataframe tbody tr th:only-of-type {\n",
       "        vertical-align: middle;\n",
       "    }\n",
       "\n",
       "    .dataframe tbody tr th {\n",
       "        vertical-align: top;\n",
       "    }\n",
       "\n",
       "    .dataframe thead th {\n",
       "        text-align: right;\n",
       "    }\n",
       "</style>\n",
       "<table border=\"1\" class=\"dataframe\">\n",
       "  <thead>\n",
       "    <tr style=\"text-align: right;\">\n",
       "      <th></th>\n",
       "      <th>Education</th>\n",
       "      <th>Count</th>\n",
       "    </tr>\n",
       "  </thead>\n",
       "  <tbody>\n",
       "    <tr>\n",
       "      <th>0</th>\n",
       "      <td>High School</td>\n",
       "      <td>3018</td>\n",
       "    </tr>\n",
       "    <tr>\n",
       "      <th>1</th>\n",
       "      <td>Bachelor's Degree</td>\n",
       "      <td>1025</td>\n",
       "    </tr>\n",
       "    <tr>\n",
       "      <th>2</th>\n",
       "      <td>Associate's Degree</td>\n",
       "      <td>596</td>\n",
       "    </tr>\n",
       "    <tr>\n",
       "      <th>3</th>\n",
       "      <td>4 Year Degree</td>\n",
       "      <td>521</td>\n",
       "    </tr>\n",
       "    <tr>\n",
       "      <th>4</th>\n",
       "      <td>Other</td>\n",
       "      <td>381</td>\n",
       "    </tr>\n",
       "    <tr>\n",
       "      <th>5</th>\n",
       "      <td>Vocational Certificate</td>\n",
       "      <td>168</td>\n",
       "    </tr>\n",
       "    <tr>\n",
       "      <th>6</th>\n",
       "      <td>2 Year Degree</td>\n",
       "      <td>163</td>\n",
       "    </tr>\n",
       "    <tr>\n",
       "      <th>7</th>\n",
       "      <td>None</td>\n",
       "      <td>111</td>\n",
       "    </tr>\n",
       "    <tr>\n",
       "      <th>8</th>\n",
       "      <td>Master's Degree</td>\n",
       "      <td>79</td>\n",
       "    </tr>\n",
       "    <tr>\n",
       "      <th>9</th>\n",
       "      <td>Graduate Degree</td>\n",
       "      <td>51</td>\n",
       "    </tr>\n",
       "    <tr>\n",
       "      <th>10</th>\n",
       "      <td>Ph.D.</td>\n",
       "      <td>20</td>\n",
       "    </tr>\n",
       "    <tr>\n",
       "      <th>11</th>\n",
       "      <td>Doctorate</td>\n",
       "      <td>4</td>\n",
       "    </tr>\n",
       "    <tr>\n",
       "      <th>12</th>\n",
       "      <td>Some College</td>\n",
       "      <td>2</td>\n",
       "    </tr>\n",
       "  </tbody>\n",
       "</table>\n",
       "</div>"
      ],
      "text/plain": [
       "                 Education  Count\n",
       "0              High School   3018\n",
       "1        Bachelor's Degree   1025\n",
       "2       Associate's Degree    596\n",
       "3            4 Year Degree    521\n",
       "4                    Other    381\n",
       "5   Vocational Certificate    168\n",
       "6            2 Year Degree    163\n",
       "7                     None    111\n",
       "8          Master's Degree     79\n",
       "9          Graduate Degree     51\n",
       "10                   Ph.D.     20\n",
       "11               Doctorate      4\n",
       "12            Some College      2"
      ]
     },
     "execution_count": 40,
     "metadata": {},
     "output_type": "execute_result"
    }
   ],
   "source": [
    "education = best_jobsUS_df['education'].value_counts(dropna=True).rename_axis('Education').reset_index(name='Count')\n",
    "education"
   ]
  },
  {
   "cell_type": "code",
   "execution_count": 41,
   "id": "MIvSkmuVvXIp",
   "metadata": {
    "colab": {
     "base_uri": "https://localhost:8080/",
     "height": 142
    },
    "id": "MIvSkmuVvXIp",
    "outputId": "880ba021-2c28-4353-daf9-1338a24be6f0"
   },
   "outputs": [
    {
     "data": {
      "text/html": [
       "<div>\n",
       "<style scoped>\n",
       "    .dataframe tbody tr th:only-of-type {\n",
       "        vertical-align: middle;\n",
       "    }\n",
       "\n",
       "    .dataframe tbody tr th {\n",
       "        vertical-align: top;\n",
       "    }\n",
       "\n",
       "    .dataframe thead th {\n",
       "        text-align: right;\n",
       "    }\n",
       "</style>\n",
       "<table border=\"1\" class=\"dataframe\">\n",
       "  <thead>\n",
       "    <tr style=\"text-align: right;\">\n",
       "      <th></th>\n",
       "      <th>Education</th>\n",
       "      <th>Count</th>\n",
       "    </tr>\n",
       "  </thead>\n",
       "  <tbody>\n",
       "    <tr>\n",
       "      <th>0</th>\n",
       "      <td>High School</td>\n",
       "      <td>3018</td>\n",
       "    </tr>\n",
       "    <tr>\n",
       "      <th>11</th>\n",
       "      <td>Doctorate</td>\n",
       "      <td>4</td>\n",
       "    </tr>\n",
       "    <tr>\n",
       "      <th>12</th>\n",
       "      <td>Some College</td>\n",
       "      <td>2</td>\n",
       "    </tr>\n",
       "  </tbody>\n",
       "</table>\n",
       "</div>"
      ],
      "text/plain": [
       "       Education  Count\n",
       "0    High School   3018\n",
       "11     Doctorate      4\n",
       "12  Some College      2"
      ]
     },
     "execution_count": 41,
     "metadata": {},
     "output_type": "execute_result"
    }
   ],
   "source": [
    "#Nivel de educación más y menos pedidos en las ofertas de trabajo\n",
    "min_max_education = education.head(1).append(education.tail(2))\n",
    "min_max_education"
   ]
  },
  {
   "cell_type": "code",
   "execution_count": 42,
   "id": "xMrVPqD_5n8Z",
   "metadata": {
    "colab": {
     "base_uri": "https://localhost:8080/",
     "height": 295
    },
    "id": "xMrVPqD_5n8Z",
    "outputId": "882aee96-3fe0-4798-8ddc-213a91c26087"
   },
   "outputs": [
    {
     "data": {
      "image/png": "[encoded data removed]",
      "text/plain": [
       "<Figure size 432x288 with 1 Axes>"
      ]
     },
     "metadata": {
      "needs_background": "light"
     },
     "output_type": "display_data"
    }
   ],
   "source": [
    "import matplotlib.pyplot as plt\n",
    "\n",
    "plt.barh(education['Education'], education['Count'])\n",
    "plt.xlabel('Cantidad')\n",
    "plt.ylabel('Educación')\n",
    "plt.title('Educación requerida en ofertas de trabajo')\n",
    "plt.show()"
   ]
  },
  {
   "cell_type": "markdown",
   "id": "daw7rrk456XR",
   "metadata": {
    "id": "daw7rrk456XR"
   },
   "source": [
    "### Cantidad de ofertas de trabajo por región"
   ]
  },
  {
   "cell_type": "code",
   "execution_count": 43,
   "id": "FRabbofE5q__",
   "metadata": {
    "colab": {
     "base_uri": "https://localhost:8080/",
     "height": 514
    },
    "id": "FRabbofE5q__",
    "outputId": "0df0a72a-9b5a-40f7-e731-bec89ecb2745"
   },
   "outputs": [
    {
     "data": {
      "text/html": [
       "<div>\n",
       "<style scoped>\n",
       "    .dataframe tbody tr th:only-of-type {\n",
       "        vertical-align: middle;\n",
       "    }\n",
       "\n",
       "    .dataframe tbody tr th {\n",
       "        vertical-align: top;\n",
       "    }\n",
       "\n",
       "    .dataframe thead th {\n",
       "        text-align: right;\n",
       "    }\n",
       "</style>\n",
       "<table border=\"1\" class=\"dataframe\">\n",
       "  <thead>\n",
       "    <tr style=\"text-align: right;\">\n",
       "      <th></th>\n",
       "      <th>Region</th>\n",
       "      <th>Count</th>\n",
       "    </tr>\n",
       "  </thead>\n",
       "  <tbody>\n",
       "    <tr>\n",
       "      <th>0</th>\n",
       "      <td>TX</td>\n",
       "      <td>851</td>\n",
       "    </tr>\n",
       "    <tr>\n",
       "      <th>1</th>\n",
       "      <td>CA</td>\n",
       "      <td>833</td>\n",
       "    </tr>\n",
       "    <tr>\n",
       "      <th>2</th>\n",
       "      <td>FL</td>\n",
       "      <td>759</td>\n",
       "    </tr>\n",
       "    <tr>\n",
       "      <th>3</th>\n",
       "      <td>GA</td>\n",
       "      <td>554</td>\n",
       "    </tr>\n",
       "    <tr>\n",
       "      <th>4</th>\n",
       "      <td>IL</td>\n",
       "      <td>440</td>\n",
       "    </tr>\n",
       "    <tr>\n",
       "      <th>5</th>\n",
       "      <td>OH</td>\n",
       "      <td>440</td>\n",
       "    </tr>\n",
       "    <tr>\n",
       "      <th>6</th>\n",
       "      <td>PA</td>\n",
       "      <td>432</td>\n",
       "    </tr>\n",
       "    <tr>\n",
       "      <th>7</th>\n",
       "      <td>NY</td>\n",
       "      <td>399</td>\n",
       "    </tr>\n",
       "    <tr>\n",
       "      <th>8</th>\n",
       "      <td>NC</td>\n",
       "      <td>397</td>\n",
       "    </tr>\n",
       "    <tr>\n",
       "      <th>9</th>\n",
       "      <td>TN</td>\n",
       "      <td>325</td>\n",
       "    </tr>\n",
       "    <tr>\n",
       "      <th>10</th>\n",
       "      <td>NJ</td>\n",
       "      <td>312</td>\n",
       "    </tr>\n",
       "    <tr>\n",
       "      <th>11</th>\n",
       "      <td>AZ</td>\n",
       "      <td>295</td>\n",
       "    </tr>\n",
       "    <tr>\n",
       "      <th>12</th>\n",
       "      <td>WA</td>\n",
       "      <td>293</td>\n",
       "    </tr>\n",
       "    <tr>\n",
       "      <th>13</th>\n",
       "      <td>MI</td>\n",
       "      <td>284</td>\n",
       "    </tr>\n",
       "    <tr>\n",
       "      <th>14</th>\n",
       "      <td>MA</td>\n",
       "      <td>267</td>\n",
       "    </tr>\n",
       "  </tbody>\n",
       "</table>\n",
       "</div>"
      ],
      "text/plain": [
       "   Region  Count\n",
       "0      TX    851\n",
       "1      CA    833\n",
       "2      FL    759\n",
       "3      GA    554\n",
       "4      IL    440\n",
       "5      OH    440\n",
       "6      PA    432\n",
       "7      NY    399\n",
       "8      NC    397\n",
       "9      TN    325\n",
       "10     NJ    312\n",
       "11     AZ    295\n",
       "12     WA    293\n",
       "13     MI    284\n",
       "14     MA    267"
      ]
     },
     "execution_count": 43,
     "metadata": {},
     "output_type": "execute_result"
    }
   ],
   "source": [
    "region = best_jobsUS_df['region'].value_counts(dropna=True).rename_axis('Region').reset_index(name='Count')\n",
    "region.head(15)"
   ]
  },
  {
   "cell_type": "code",
   "execution_count": 44,
   "id": "DhW3E6Ojvfo4",
   "metadata": {
    "colab": {
     "base_uri": "https://localhost:8080/",
     "height": 111
    },
    "id": "DhW3E6Ojvfo4",
    "outputId": "dfcd3e8a-61f0-48e3-854a-43b3b6cf84ff"
   },
   "outputs": [
    {
     "data": {
      "text/html": [
       "<div>\n",
       "<style scoped>\n",
       "    .dataframe tbody tr th:only-of-type {\n",
       "        vertical-align: middle;\n",
       "    }\n",
       "\n",
       "    .dataframe tbody tr th {\n",
       "        vertical-align: top;\n",
       "    }\n",
       "\n",
       "    .dataframe thead th {\n",
       "        text-align: right;\n",
       "    }\n",
       "</style>\n",
       "<table border=\"1\" class=\"dataframe\">\n",
       "  <thead>\n",
       "    <tr style=\"text-align: right;\">\n",
       "      <th></th>\n",
       "      <th>Region</th>\n",
       "      <th>Count</th>\n",
       "    </tr>\n",
       "  </thead>\n",
       "  <tbody>\n",
       "    <tr>\n",
       "      <th>0</th>\n",
       "      <td>TX</td>\n",
       "      <td>851</td>\n",
       "    </tr>\n",
       "    <tr>\n",
       "      <th>50</th>\n",
       "      <td>AK</td>\n",
       "      <td>12</td>\n",
       "    </tr>\n",
       "  </tbody>\n",
       "</table>\n",
       "</div>"
      ],
      "text/plain": [
       "   Region  Count\n",
       "0      TX    851\n",
       "50     AK     12"
      ]
     },
     "execution_count": 44,
     "metadata": {},
     "output_type": "execute_result"
    }
   ],
   "source": [
    "#Región con mayor y menor cantidad de ofertas de trabajo\n",
    "min_max_region = region.head(1).append(region.tail(1))\n",
    "min_max_region"
   ]
  },
  {
   "cell_type": "code",
   "execution_count": 53,
   "id": "ZEhhDKN55u17",
   "metadata": {
    "colab": {
     "base_uri": "https://localhost:8080/",
     "height": 785
    },
    "id": "ZEhhDKN55u17",
    "outputId": "f029b409-57d7-4879-a182-cfc00d87641e"
   },
   "outputs": [
    {
     "data": {
      "image/png": "[encoded data removed]",
      "text/plain": [
       "<Figure size 1440x936 with 1 Axes>"
      ]
     },
     "metadata": {
      "needs_background": "light"
     },
     "output_type": "display_data"
    }
   ],
   "source": [
    "import matplotlib.pyplot as plt\n",
    "\n",
    "plt.bar(region['Region'], region['Count'])\n",
    "plt.rcParams[\"figure.figsize\"] = (20, 13)\n",
    "plt.ylabel('Cantidad')\n",
    "plt.xlabel('Región')\n",
    "plt.title('Cantidad de ofertas de trabajo por ciudad/estado')\n",
    "plt.show()"
   ]
  },
  {
   "cell_type": "markdown",
   "id": "w91ciTWO533V",
   "metadata": {
    "id": "w91ciTWO533V"
   },
   "source": [
    "### Hora de publicación"
   ]
  },
  {
   "cell_type": "code",
   "execution_count": 46,
   "id": "NjOQ59Yk5xYA",
   "metadata": {
    "colab": {
     "base_uri": "https://localhost:8080/",
     "height": 793
    },
    "id": "NjOQ59Yk5xYA",
    "outputId": "801834b8-071e-4119-fbea-aca33fb97e01"
   },
   "outputs": [
    {
     "data": {
      "text/html": [
       "<div>\n",
       "<style scoped>\n",
       "    .dataframe tbody tr th:only-of-type {\n",
       "        vertical-align: middle;\n",
       "    }\n",
       "\n",
       "    .dataframe tbody tr th {\n",
       "        vertical-align: top;\n",
       "    }\n",
       "\n",
       "    .dataframe thead th {\n",
       "        text-align: right;\n",
       "    }\n",
       "</style>\n",
       "<table border=\"1\" class=\"dataframe\">\n",
       "  <thead>\n",
       "    <tr style=\"text-align: right;\">\n",
       "      <th></th>\n",
       "      <th>Hour</th>\n",
       "      <th>Count</th>\n",
       "    </tr>\n",
       "  </thead>\n",
       "  <tbody>\n",
       "    <tr>\n",
       "      <th>0</th>\n",
       "      <td>21.0</td>\n",
       "      <td>740</td>\n",
       "    </tr>\n",
       "    <tr>\n",
       "      <th>1</th>\n",
       "      <td>12.0</td>\n",
       "      <td>654</td>\n",
       "    </tr>\n",
       "    <tr>\n",
       "      <th>2</th>\n",
       "      <td>20.0</td>\n",
       "      <td>558</td>\n",
       "    </tr>\n",
       "    <tr>\n",
       "      <th>3</th>\n",
       "      <td>22.0</td>\n",
       "      <td>431</td>\n",
       "    </tr>\n",
       "    <tr>\n",
       "      <th>4</th>\n",
       "      <td>6.0</td>\n",
       "      <td>385</td>\n",
       "    </tr>\n",
       "    <tr>\n",
       "      <th>5</th>\n",
       "      <td>13.0</td>\n",
       "      <td>343</td>\n",
       "    </tr>\n",
       "    <tr>\n",
       "      <th>6</th>\n",
       "      <td>5.0</td>\n",
       "      <td>328</td>\n",
       "    </tr>\n",
       "    <tr>\n",
       "      <th>7</th>\n",
       "      <td>14.0</td>\n",
       "      <td>266</td>\n",
       "    </tr>\n",
       "    <tr>\n",
       "      <th>8</th>\n",
       "      <td>4.0</td>\n",
       "      <td>240</td>\n",
       "    </tr>\n",
       "    <tr>\n",
       "      <th>9</th>\n",
       "      <td>9.0</td>\n",
       "      <td>225</td>\n",
       "    </tr>\n",
       "    <tr>\n",
       "      <th>10</th>\n",
       "      <td>0.0</td>\n",
       "      <td>214</td>\n",
       "    </tr>\n",
       "    <tr>\n",
       "      <th>11</th>\n",
       "      <td>10.0</td>\n",
       "      <td>211</td>\n",
       "    </tr>\n",
       "    <tr>\n",
       "      <th>12</th>\n",
       "      <td>11.0</td>\n",
       "      <td>202</td>\n",
       "    </tr>\n",
       "    <tr>\n",
       "      <th>13</th>\n",
       "      <td>8.0</td>\n",
       "      <td>200</td>\n",
       "    </tr>\n",
       "    <tr>\n",
       "      <th>14</th>\n",
       "      <td>7.0</td>\n",
       "      <td>188</td>\n",
       "    </tr>\n",
       "    <tr>\n",
       "      <th>15</th>\n",
       "      <td>23.0</td>\n",
       "      <td>141</td>\n",
       "    </tr>\n",
       "    <tr>\n",
       "      <th>16</th>\n",
       "      <td>3.0</td>\n",
       "      <td>118</td>\n",
       "    </tr>\n",
       "    <tr>\n",
       "      <th>17</th>\n",
       "      <td>15.0</td>\n",
       "      <td>115</td>\n",
       "    </tr>\n",
       "    <tr>\n",
       "      <th>18</th>\n",
       "      <td>2.0</td>\n",
       "      <td>59</td>\n",
       "    </tr>\n",
       "    <tr>\n",
       "      <th>19</th>\n",
       "      <td>16.0</td>\n",
       "      <td>56</td>\n",
       "    </tr>\n",
       "    <tr>\n",
       "      <th>20</th>\n",
       "      <td>17.0</td>\n",
       "      <td>50</td>\n",
       "    </tr>\n",
       "    <tr>\n",
       "      <th>21</th>\n",
       "      <td>19.0</td>\n",
       "      <td>36</td>\n",
       "    </tr>\n",
       "    <tr>\n",
       "      <th>22</th>\n",
       "      <td>1.0</td>\n",
       "      <td>31</td>\n",
       "    </tr>\n",
       "    <tr>\n",
       "      <th>23</th>\n",
       "      <td>18.0</td>\n",
       "      <td>21</td>\n",
       "    </tr>\n",
       "  </tbody>\n",
       "</table>\n",
       "</div>"
      ],
      "text/plain": [
       "    Hour  Count\n",
       "0   21.0    740\n",
       "1   12.0    654\n",
       "2   20.0    558\n",
       "3   22.0    431\n",
       "4    6.0    385\n",
       "5   13.0    343\n",
       "6    5.0    328\n",
       "7   14.0    266\n",
       "8    4.0    240\n",
       "9    9.0    225\n",
       "10   0.0    214\n",
       "11  10.0    211\n",
       "12  11.0    202\n",
       "13   8.0    200\n",
       "14   7.0    188\n",
       "15  23.0    141\n",
       "16   3.0    118\n",
       "17  15.0    115\n",
       "18   2.0     59\n",
       "19  16.0     56\n",
       "20  17.0     50\n",
       "21  19.0     36\n",
       "22   1.0     31\n",
       "23  18.0     21"
      ]
     },
     "execution_count": 46,
     "metadata": {},
     "output_type": "execute_result"
    }
   ],
   "source": [
    "#Cantidad de ofertas publicadas según hora\n",
    "best_jobsUS_df['posted_at'] = pd.to_datetime(best_jobsUS_df.posted_at, format='%d-%m-%Y %H:%M', errors='coerce')\n",
    "hours = best_jobsUS_df['posted_at'].dt.hour.value_counts(dropna=True).rename_axis('Hour').reset_index(name='Count')\n",
    "hours"
   ]
  },
  {
   "cell_type": "code",
   "execution_count": 47,
   "id": "BDTeQ7uRvlcE",
   "metadata": {
    "colab": {
     "base_uri": "https://localhost:8080/",
     "height": 111
    },
    "id": "BDTeQ7uRvlcE",
    "outputId": "4d3d4e96-b46c-4727-ba79-9cdb562a55cf"
   },
   "outputs": [
    {
     "data": {
      "text/html": [
       "<div>\n",
       "<style scoped>\n",
       "    .dataframe tbody tr th:only-of-type {\n",
       "        vertical-align: middle;\n",
       "    }\n",
       "\n",
       "    .dataframe tbody tr th {\n",
       "        vertical-align: top;\n",
       "    }\n",
       "\n",
       "    .dataframe thead th {\n",
       "        text-align: right;\n",
       "    }\n",
       "</style>\n",
       "<table border=\"1\" class=\"dataframe\">\n",
       "  <thead>\n",
       "    <tr style=\"text-align: right;\">\n",
       "      <th></th>\n",
       "      <th>Hour</th>\n",
       "      <th>Count</th>\n",
       "    </tr>\n",
       "  </thead>\n",
       "  <tbody>\n",
       "    <tr>\n",
       "      <th>0</th>\n",
       "      <td>21.0</td>\n",
       "      <td>740</td>\n",
       "    </tr>\n",
       "    <tr>\n",
       "      <th>23</th>\n",
       "      <td>18.0</td>\n",
       "      <td>21</td>\n",
       "    </tr>\n",
       "  </tbody>\n",
       "</table>\n",
       "</div>"
      ],
      "text/plain": [
       "    Hour  Count\n",
       "0   21.0    740\n",
       "23  18.0     21"
      ]
     },
     "execution_count": 47,
     "metadata": {},
     "output_type": "execute_result"
    }
   ],
   "source": [
    "#Horas con mayor y menor número de publicaciones de ofertas de trabajo\n",
    "hours_ordered = hours.sort_values(['Count'], ascending=False)\n",
    "hours_ordered_table = hours_ordered.head(1).append(hours_ordered.tail(1))\n",
    "hours_ordered_table"
   ]
  },
  {
   "cell_type": "code",
   "execution_count": 48,
   "id": "5DLAXRPh5xR7",
   "metadata": {
    "colab": {
     "base_uri": "https://localhost:8080/",
     "height": 785
    },
    "id": "5DLAXRPh5xR7",
    "outputId": "6e8f79b1-faa6-49e1-ec76-4f52d264570b"
   },
   "outputs": [
    {
     "data": {
      "image/png": "[encoded data removed]",
      "text/plain": [
       "<Figure size 1440x936 with 1 Axes>"
      ]
     },
     "metadata": {
      "needs_background": "light"
     },
     "output_type": "display_data"
    }
   ],
   "source": [
    "import matplotlib.pyplot as plt\n",
    "\n",
    "plt.bar(hours['Hour'], hours['Count'])\n",
    "plt.xticks(list(hours['Hour']))\n",
    "plt.ylabel('Cantidad')\n",
    "plt.xlabel('Horas')\n",
    "plt.title('Horas en que se publican las ofertas de trabajo')\n",
    "plt.show()"
   ]
  },
  {
   "cell_type": "markdown",
   "id": "Y1raZwCP63Ds",
   "metadata": {
    "id": "Y1raZwCP63Ds"
   },
   "source": [
    "## 2.7 Sueldos según la ubicación\n",
    "\n",
    "Considerando que tenemos la información geográfica de cada oferta de trabajo, un análisis interesante que se puede hacer es en base al sueldo promedio que se registra en cada estado. \n",
    "\n"
   ]
  },
  {
   "cell_type": "markdown",
   "id": "hDt9NY5Q63Dx",
   "metadata": {
    "id": "hDt9NY5Q63Dx"
   },
   "source": [
    "#### Salario promedio en los Estados Unidos"
   ]
  },
  {
   "cell_type": "code",
   "execution_count": 49,
   "id": "qsX-9IwA63Dy",
   "metadata": {
    "colab": {
     "base_uri": "https://localhost:8080/"
    },
    "id": "qsX-9IwA63Dy",
    "outputId": "c1190b40-c08e-4663-b3bf-e92eab4acaab"
   },
   "outputs": [
    {
     "name": "stdout",
     "output_type": "stream",
     "text": [
      "El salario promedio/hora calculado es de:  29.3 USD\n",
      "El salario promedio/año calculado es de:  60933.2 USD\n"
     ]
    }
   ],
   "source": [
    "hour = best_jobsUS_df['hourly_salary'].mean()\n",
    "print(\"El salario promedio/hora calculado es de: \", round(hour, 1), \"USD\")\n",
    "year = best_jobsUS_df['yearly_salary'].mean()\n",
    "print(\"El salario promedio/año calculado es de: \", round(year, 1), \"USD\")"
   ]
  },
  {
   "cell_type": "markdown",
   "id": "hMJgNh-I63Dz",
   "metadata": {
    "id": "hMJgNh-I63Dz"
   },
   "source": [
    "En base a estos cálculos, el salario promedio anual es de 60933.2 USD, mientras el que el salario promedio por hora es de 29.3 USD."
   ]
  },
  {
   "cell_type": "markdown",
   "id": "4a_3oo5D63D0",
   "metadata": {
    "id": "4a_3oo5D63D0"
   },
   "source": [
    "Una vez obtenidos estos datos, pasamos al análisis de los sueldos, considerando el la ubicación geográfica de la oferta."
   ]
  },
  {
   "cell_type": "markdown",
   "id": "lmN-dMwu63D1",
   "metadata": {
    "id": "lmN-dMwu63D1"
   },
   "source": [
    "#### Salario promedio según el estado\n",
    "\n",
    "En primer lugar, antes de calcular los valores promedio, calculamos cuantos datos de sueldos tenemos para cada estado. La idea es que se consideren solo aquellos estados que tengan la suficiente cantidad de datos para los promedios a mostrar. \n"
   ]
  },
  {
   "cell_type": "code",
   "execution_count": 50,
   "id": "UpK6q2K763D2",
   "metadata": {
    "colab": {
     "base_uri": "https://localhost:8080/"
    },
    "id": "UpK6q2K763D2",
    "outputId": "981ad1a8-5f85-4278-8f28-49cd75296e69"
   },
   "outputs": [
    {
     "data": {
      "text/plain": [
       "29.0"
      ]
     },
     "execution_count": 50,
     "metadata": {},
     "output_type": "execute_result"
    }
   ],
   "source": [
    "jobs_salary = best_jobsUS_df[best_jobsUS_df['yearly_salary'].notnull()]\n",
    "region_count = jobs_salary.groupby(['region']).size().reset_index(name='counts')\n",
    "region_count['counts'].median()"
   ]
  },
  {
   "cell_type": "markdown",
   "id": "s0OkGbS563D2",
   "metadata": {
    "id": "s0OkGbS563D2"
   },
   "source": [
    "Se obtiene que la mediana para la cantidad de valores por estado es de 29, por lo que para los siguientes análisis se considerarán solo los estados que tengan más de 16 valores de salarios.\n",
    "\n"
   ]
  },
  {
   "cell_type": "code",
   "execution_count": 51,
   "id": "AlgIkdV963D4",
   "metadata": {
    "id": "AlgIkdV963D4"
   },
   "outputs": [],
   "source": [
    "region_count_filtered = region_count.loc[region_count['counts'] >= 22]\n",
    "best_jobs_filtered = best_jobsUS_df[best_jobsUS_df['region'].isin(list(region_count_filtered['region']))]\n",
    "best_jobs_filtered = best_jobs_filtered[best_jobs_filtered['yearly_salary'].notnull()]"
   ]
  },
  {
   "cell_type": "markdown",
   "id": "bzIGRCwA63D5",
   "metadata": {
    "id": "bzIGRCwA63D5"
   },
   "source": [
    "Una vez tenemos filtrados los datos, tanto las regiones con el conteo mínimo definido, como los salarios anuales no nulos, calculamos cual es el sueldo promedio anual por estado de USA."
   ]
  },
  {
   "cell_type": "code",
   "execution_count": 52,
   "id": "0HL92-be63D5",
   "metadata": {
    "colab": {
     "base_uri": "https://localhost:8080/",
     "height": 948
    },
    "id": "0HL92-be63D5",
    "outputId": "e750f8cc-dd59-4bb8-dfcd-a9d529cbed8f"
   },
   "outputs": [
    {
     "data": {
      "text/html": [
       "<div>\n",
       "<style scoped>\n",
       "    .dataframe tbody tr th:only-of-type {\n",
       "        vertical-align: middle;\n",
       "    }\n",
       "\n",
       "    .dataframe tbody tr th {\n",
       "        vertical-align: top;\n",
       "    }\n",
       "\n",
       "    .dataframe thead th {\n",
       "        text-align: right;\n",
       "    }\n",
       "</style>\n",
       "<table border=\"1\" class=\"dataframe\">\n",
       "  <thead>\n",
       "    <tr style=\"text-align: right;\">\n",
       "      <th></th>\n",
       "      <th>region</th>\n",
       "      <th>yearly_salary</th>\n",
       "    </tr>\n",
       "  </thead>\n",
       "  <tbody>\n",
       "    <tr>\n",
       "      <th>13</th>\n",
       "      <td>MA</td>\n",
       "      <td>92410.896875</td>\n",
       "    </tr>\n",
       "    <tr>\n",
       "      <th>3</th>\n",
       "      <td>CO</td>\n",
       "      <td>86745.239024</td>\n",
       "    </tr>\n",
       "    <tr>\n",
       "      <th>10</th>\n",
       "      <td>KS</td>\n",
       "      <td>77205.038462</td>\n",
       "    </tr>\n",
       "    <tr>\n",
       "      <th>24</th>\n",
       "      <td>TN</td>\n",
       "      <td>72157.343284</td>\n",
       "    </tr>\n",
       "    <tr>\n",
       "      <th>26</th>\n",
       "      <td>VA</td>\n",
       "      <td>69354.769231</td>\n",
       "    </tr>\n",
       "    <tr>\n",
       "      <th>19</th>\n",
       "      <td>NJ</td>\n",
       "      <td>69002.696203</td>\n",
       "    </tr>\n",
       "    <tr>\n",
       "      <th>23</th>\n",
       "      <td>SC</td>\n",
       "      <td>68701.257143</td>\n",
       "    </tr>\n",
       "    <tr>\n",
       "      <th>12</th>\n",
       "      <td>LA</td>\n",
       "      <td>67019.200000</td>\n",
       "    </tr>\n",
       "    <tr>\n",
       "      <th>14</th>\n",
       "      <td>MD</td>\n",
       "      <td>66035.096774</td>\n",
       "    </tr>\n",
       "    <tr>\n",
       "      <th>18</th>\n",
       "      <td>NC</td>\n",
       "      <td>65054.192308</td>\n",
       "    </tr>\n",
       "    <tr>\n",
       "      <th>25</th>\n",
       "      <td>TX</td>\n",
       "      <td>62821.511558</td>\n",
       "    </tr>\n",
       "    <tr>\n",
       "      <th>5</th>\n",
       "      <td>FL</td>\n",
       "      <td>62556.249102</td>\n",
       "    </tr>\n",
       "    <tr>\n",
       "      <th>4</th>\n",
       "      <td>CT</td>\n",
       "      <td>62236.038462</td>\n",
       "    </tr>\n",
       "    <tr>\n",
       "      <th>17</th>\n",
       "      <td>MO</td>\n",
       "      <td>62229.439130</td>\n",
       "    </tr>\n",
       "    <tr>\n",
       "      <th>20</th>\n",
       "      <td>NY</td>\n",
       "      <td>61244.453782</td>\n",
       "    </tr>\n",
       "    <tr>\n",
       "      <th>27</th>\n",
       "      <td>WA</td>\n",
       "      <td>61092.500000</td>\n",
       "    </tr>\n",
       "    <tr>\n",
       "      <th>2</th>\n",
       "      <td>CA</td>\n",
       "      <td>59015.804724</td>\n",
       "    </tr>\n",
       "    <tr>\n",
       "      <th>6</th>\n",
       "      <td>GA</td>\n",
       "      <td>57134.945736</td>\n",
       "    </tr>\n",
       "    <tr>\n",
       "      <th>1</th>\n",
       "      <td>AZ</td>\n",
       "      <td>57101.332075</td>\n",
       "    </tr>\n",
       "    <tr>\n",
       "      <th>22</th>\n",
       "      <td>PA</td>\n",
       "      <td>55565.369912</td>\n",
       "    </tr>\n",
       "    <tr>\n",
       "      <th>15</th>\n",
       "      <td>MI</td>\n",
       "      <td>55242.880952</td>\n",
       "    </tr>\n",
       "    <tr>\n",
       "      <th>0</th>\n",
       "      <td>AL</td>\n",
       "      <td>52118.586207</td>\n",
       "    </tr>\n",
       "    <tr>\n",
       "      <th>8</th>\n",
       "      <td>IL</td>\n",
       "      <td>51238.763964</td>\n",
       "    </tr>\n",
       "    <tr>\n",
       "      <th>11</th>\n",
       "      <td>KY</td>\n",
       "      <td>50851.317647</td>\n",
       "    </tr>\n",
       "    <tr>\n",
       "      <th>7</th>\n",
       "      <td>IA</td>\n",
       "      <td>50709.682759</td>\n",
       "    </tr>\n",
       "    <tr>\n",
       "      <th>28</th>\n",
       "      <td>WI</td>\n",
       "      <td>49999.200000</td>\n",
       "    </tr>\n",
       "    <tr>\n",
       "      <th>16</th>\n",
       "      <td>MN</td>\n",
       "      <td>49808.789610</td>\n",
       "    </tr>\n",
       "    <tr>\n",
       "      <th>21</th>\n",
       "      <td>OH</td>\n",
       "      <td>49708.183704</td>\n",
       "    </tr>\n",
       "    <tr>\n",
       "      <th>9</th>\n",
       "      <td>IN</td>\n",
       "      <td>42368.853165</td>\n",
       "    </tr>\n",
       "  </tbody>\n",
       "</table>\n",
       "</div>"
      ],
      "text/plain": [
       "   region  yearly_salary\n",
       "13     MA   92410.896875\n",
       "3      CO   86745.239024\n",
       "10     KS   77205.038462\n",
       "24     TN   72157.343284\n",
       "26     VA   69354.769231\n",
       "19     NJ   69002.696203\n",
       "23     SC   68701.257143\n",
       "12     LA   67019.200000\n",
       "14     MD   66035.096774\n",
       "18     NC   65054.192308\n",
       "25     TX   62821.511558\n",
       "5      FL   62556.249102\n",
       "4      CT   62236.038462\n",
       "17     MO   62229.439130\n",
       "20     NY   61244.453782\n",
       "27     WA   61092.500000\n",
       "2      CA   59015.804724\n",
       "6      GA   57134.945736\n",
       "1      AZ   57101.332075\n",
       "22     PA   55565.369912\n",
       "15     MI   55242.880952\n",
       "0      AL   52118.586207\n",
       "8      IL   51238.763964\n",
       "11     KY   50851.317647\n",
       "7      IA   50709.682759\n",
       "28     WI   49999.200000\n",
       "16     MN   49808.789610\n",
       "21     OH   49708.183704\n",
       "9      IN   42368.853165"
      ]
     },
     "execution_count": 52,
     "metadata": {},
     "output_type": "execute_result"
    }
   ],
   "source": [
    "region_mean_salary = best_jobs_filtered.groupby('region', as_index=False)['yearly_salary'].mean()\n",
    "region_mean_salary.sort_values(by=['yearly_salary'], ascending=False)"
   ]
  },
  {
   "cell_type": "markdown",
   "id": "VSY27NS063D6",
   "metadata": {
    "id": "VSY27NS063D6"
   },
   "source": [
    "En base a este análisis, podemos observar que los 5 estados con mayor sueldo promedio anualmente son: \n",
    "\n",
    "- Massachusetts\n",
    "- Colorado\n",
    "- Kansas\n",
    "- Tennessee\n",
    "- Virginia"
   ]
  },
  {
   "cell_type": "markdown",
   "id": "KvCYByTWMFVb",
   "metadata": {
    "id": "KvCYByTWMFVb"
   },
   "source": [
    "# 3. Preguntas y problemas\n",
    "\n",
    "En base a la exploración y analísis de los datos, en conjunto con la motivación expresada, se plantean las siguientes preguntas a intentar resolver en este proyecto:\n",
    "\n",
    "* ¿Se puede predecir el sueldo con las variables descripción de la oferta, ubicación del trabajo, área de interés, hora y skills? \n",
    "\n",
    "* Si tengo un conjunto de skills, ¿qué skill podría desarrollar para optar a un mejor sueldo?\n",
    "\n",
    "* ¿Existe alguna relación entre la localización del trabajo y el rol que se está buscando en la oferta?"
   ]
  },
  {
   "cell_type": "markdown",
   "id": "BXY_5VOMOhFZ",
   "metadata": {
    "id": "BXY_5VOMOhFZ"
   },
   "source": [
    "# 4. Contribuciones\n",
    "\n",
    "* Maximiliano Jorquera: Estuvo a cargo de la introducción y la correlación entre variables.\n",
    "* Catalina Rojas: Estuvo a cargo de la exploracion sobre grado de educación, regiones y horas.\n",
    "* Loreto Palma: Estuvo a cargo del análisis de sueldos según la ubicación y de la normalización de los valores en el atributo salary.\n",
    "* Gabriela Mora: Estuvo a cargo de la limpieza de datos y del apartado de atributos con mayor intéres.\n",
    "* Bastián Pezoa: Estuvo a cargo del apartado de Estadísticas y palabras más frecuentes en los atributos.\n",
    "\n",
    "Y entre todos, se discutieron las preguntas y problemas, y se redactó el presente informe."
   ]
  }
 ],
 "metadata": {
  "colab": {
   "collapsed_sections": [],
   "name": "Exploración de datos Bastian.ipynb",
   "provenance": [],
   "toc_visible": true
  },
  "kernelspec": {
   "display_name": "Python 3",
   "language": "python",
   "name": "python3"
  },
  "language_info": {
   "codemirror_mode": {
    "name": "ipython",
    "version": 3
   },
   "file_extension": ".py",
   "mimetype": "text/x-python",
   "name": "python",
   "nbconvert_exporter": "python",
   "pygments_lexer": "ipython3",
   "version": "3.8.8"
  }
 },
 "nbformat": 4,
 "nbformat_minor": 5
}
